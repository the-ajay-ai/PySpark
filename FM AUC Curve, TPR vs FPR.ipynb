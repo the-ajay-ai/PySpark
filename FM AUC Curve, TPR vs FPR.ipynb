{
 "cells": [
  {
   "cell_type": "code",
   "execution_count": 121,
   "id": "db611194",
   "metadata": {},
   "outputs": [],
   "source": [
    "import numpy as np\n",
    "import pandas as pd\n",
    "import pyspark #importing pyspark module\n",
    "# from pyspark import SparkContext\n",
    "from pyspark.sql import SparkSession\n",
    "from pyspark.sql.functions import col,udf,lit #udf(),col()\n",
    "from pyspark.sql.types import FloatType #FloatType()from pyspark.sql import SparkSession\n",
    "from pyspark.ml.classification import RandomForestClassifier,LogisticRegression,DecisionTreeClassifier,LinearSVC\n",
    "from pyspark.ml.feature import VectorAssembler "
   ]
  },
  {
   "cell_type": "code",
   "execution_count": 46,
   "id": "13486ca3",
   "metadata": {},
   "outputs": [],
   "source": [
    "spark = SparkSession.builder.appName(\"PDP\").getOrCreate() #creating Pyspark Session for proceed further.\n"
   ]
  },
  {
   "cell_type": "code",
   "execution_count": 47,
   "id": "bfd600f6",
   "metadata": {},
   "outputs": [],
   "source": [
    "def train_ml():\n",
    "    #Read Data\n",
    "    data = spark.read.csv(\"./Data/glass.csv\",header=True,inferSchema=True)\n",
    "    \n",
    "    #Feture col name\n",
    "    data = data.drop(\"Index\")\n",
    "    col = data.columns[:-1]\n",
    "    \n",
    "    #Group feature\n",
    "    feature_assembler = VectorAssembler(inputCols=col,outputCol=\"feature\")\n",
    "    data = feature_assembler.transform(data)\n",
    "\n",
    "    #dataset contain only feature and class label\n",
    "    data = data.select([\"feature\", \"type\"])\n",
    "    train,test = data.randomSplit([.7,.3])\n",
    "    \n",
    "    #Create ML Classifirer\n",
    "    rf_model = RandomForestClassifier(labelCol=\"type\", featuresCol=\"feature\")\n",
    "    lr_model = LogisticRegression(labelCol=\"type\", featuresCol=\"feature\")\n",
    "    sv_model = LinearSVC(maxIter=10, regParam=0.1, labelCol=\"type\", featuresCol=\"feature\")\n",
    "\n",
    "\n",
    "    #train and return train model object\n",
    "    rf_model = rf_model.fit(train)\n",
    "    lr_model = lr_model.fit(train)\n",
    "    sv_model = sv_model.fit(train)\n",
    "    return rf_model,lr_model,sv_model,col"
   ]
  },
  {
   "cell_type": "code",
   "execution_count": 48,
   "id": "dfb20b9a",
   "metadata": {},
   "outputs": [],
   "source": [
    "def get_data():\n",
    "    data = spark.read.csv(\"./Data/glass.csv\",header=True,inferSchema=True)\n",
    "    #Feture col name\n",
    "    data = data.drop(\"Index\")\n",
    "    col = data.columns[:-1]\n",
    "    \n",
    "    #Group feature\n",
    "    feature_assembler = VectorAssembler(inputCols=col,outputCol=\"feature\")\n",
    "    data = feature_assembler.transform(data)\n",
    "    \n",
    "    #dataset contain only feature and class label\n",
    "    data = data.select([\"feature\", \"type\"])\n",
    "    train,test = data.randomSplit([.7,.3])\n",
    "    return train,test"
   ]
  },
  {
   "cell_type": "code",
   "execution_count": 49,
   "id": "991d92f8",
   "metadata": {},
   "outputs": [],
   "source": [
    "target_column = \"type\"\n",
    "rf_model,lr_model,sv_model, col = train_ml()\n",
    "train,test = get_data()"
   ]
  },
  {
   "cell_type": "code",
   "execution_count": 50,
   "id": "b7fc0c40",
   "metadata": {},
   "outputs": [],
   "source": [
    "m = rf_model.transform(train)"
   ]
  },
  {
   "cell_type": "code",
   "execution_count": null,
   "id": "6a0ee148",
   "metadata": {},
   "outputs": [],
   "source": []
  },
  {
   "cell_type": "code",
   "execution_count": 8,
   "id": "351358f3",
   "metadata": {},
   "outputs": [
    {
     "data": {
      "text/plain": [
       "RandomForestClassificationModel: uid=RandomForestClassifier_60d1540c128d, numTrees=20, numClasses=2, numFeatures=9"
      ]
     },
     "execution_count": 8,
     "metadata": {},
     "output_type": "execute_result"
    }
   ],
   "source": [
    "rf_model"
   ]
  },
  {
   "cell_type": "code",
   "execution_count": 9,
   "id": "3adf9676",
   "metadata": {},
   "outputs": [
    {
     "data": {
      "text/plain": [
       "SparseVector(9, {0: 0.2295, 1: 0.0435, 2: 0.1166, 3: 0.2684, 4: 0.0767, 5: 0.0984, 6: 0.1101, 7: 0.0149, 8: 0.0419})"
      ]
     },
     "execution_count": 9,
     "metadata": {},
     "output_type": "execute_result"
    }
   ],
   "source": [
    "rf_model.featureImportances"
   ]
  },
  {
   "cell_type": "code",
   "execution_count": 10,
   "id": "a55b23b9",
   "metadata": {},
   "outputs": [],
   "source": [
    "model = pd.DataFrame(rf_model.featureImportances.values, columns=[\"values\"])\n"
   ]
  },
  {
   "cell_type": "code",
   "execution_count": 11,
   "id": "32c85402",
   "metadata": {},
   "outputs": [
    {
     "data": {
      "text/html": [
       "<div>\n",
       "<style scoped>\n",
       "    .dataframe tbody tr th:only-of-type {\n",
       "        vertical-align: middle;\n",
       "    }\n",
       "\n",
       "    .dataframe tbody tr th {\n",
       "        vertical-align: top;\n",
       "    }\n",
       "\n",
       "    .dataframe thead th {\n",
       "        text-align: right;\n",
       "    }\n",
       "</style>\n",
       "<table border=\"1\" class=\"dataframe\">\n",
       "  <thead>\n",
       "    <tr style=\"text-align: right;\">\n",
       "      <th></th>\n",
       "      <th>values</th>\n",
       "      <th>features</th>\n",
       "    </tr>\n",
       "  </thead>\n",
       "  <tbody>\n",
       "    <tr>\n",
       "      <th>0</th>\n",
       "      <td>0.229508</td>\n",
       "      <td>ri</td>\n",
       "    </tr>\n",
       "    <tr>\n",
       "      <th>1</th>\n",
       "      <td>0.043539</td>\n",
       "      <td>na</td>\n",
       "    </tr>\n",
       "    <tr>\n",
       "      <th>2</th>\n",
       "      <td>0.116612</td>\n",
       "      <td>mg</td>\n",
       "    </tr>\n",
       "    <tr>\n",
       "      <th>3</th>\n",
       "      <td>0.268386</td>\n",
       "      <td>al</td>\n",
       "    </tr>\n",
       "    <tr>\n",
       "      <th>4</th>\n",
       "      <td>0.076663</td>\n",
       "      <td>si</td>\n",
       "    </tr>\n",
       "    <tr>\n",
       "      <th>5</th>\n",
       "      <td>0.098372</td>\n",
       "      <td>k</td>\n",
       "    </tr>\n",
       "    <tr>\n",
       "      <th>6</th>\n",
       "      <td>0.110124</td>\n",
       "      <td>ca</td>\n",
       "    </tr>\n",
       "    <tr>\n",
       "      <th>7</th>\n",
       "      <td>0.014875</td>\n",
       "      <td>ba</td>\n",
       "    </tr>\n",
       "    <tr>\n",
       "      <th>8</th>\n",
       "      <td>0.041921</td>\n",
       "      <td>fe</td>\n",
       "    </tr>\n",
       "  </tbody>\n",
       "</table>\n",
       "</div>"
      ],
      "text/plain": [
       "     values features\n",
       "0  0.229508       ri\n",
       "1  0.043539       na\n",
       "2  0.116612       mg\n",
       "3  0.268386       al\n",
       "4  0.076663       si\n",
       "5  0.098372        k\n",
       "6  0.110124       ca\n",
       "7  0.014875       ba\n",
       "8  0.041921       fe"
      ]
     },
     "execution_count": 11,
     "metadata": {},
     "output_type": "execute_result"
    }
   ],
   "source": [
    "features_col = pd.Series(col)\n",
    "model[\"features\"] = features_col\n",
    "model\n"
   ]
  },
  {
   "cell_type": "code",
   "execution_count": 12,
   "id": "bd02264f",
   "metadata": {},
   "outputs": [
    {
     "data": {
      "text/html": [
       "<div>\n",
       "<style scoped>\n",
       "    .dataframe tbody tr th:only-of-type {\n",
       "        vertical-align: middle;\n",
       "    }\n",
       "\n",
       "    .dataframe tbody tr th {\n",
       "        vertical-align: top;\n",
       "    }\n",
       "\n",
       "    .dataframe thead th {\n",
       "        text-align: right;\n",
       "    }\n",
       "</style>\n",
       "<table border=\"1\" class=\"dataframe\">\n",
       "  <thead>\n",
       "    <tr style=\"text-align: right;\">\n",
       "      <th></th>\n",
       "      <th>values</th>\n",
       "      <th>features</th>\n",
       "    </tr>\n",
       "  </thead>\n",
       "  <tbody>\n",
       "    <tr>\n",
       "      <th>3</th>\n",
       "      <td>0.27</td>\n",
       "      <td>al</td>\n",
       "    </tr>\n",
       "    <tr>\n",
       "      <th>0</th>\n",
       "      <td>0.23</td>\n",
       "      <td>ri</td>\n",
       "    </tr>\n",
       "    <tr>\n",
       "      <th>2</th>\n",
       "      <td>0.12</td>\n",
       "      <td>mg</td>\n",
       "    </tr>\n",
       "    <tr>\n",
       "      <th>6</th>\n",
       "      <td>0.11</td>\n",
       "      <td>ca</td>\n",
       "    </tr>\n",
       "  </tbody>\n",
       "</table>\n",
       "</div>"
      ],
      "text/plain": [
       "   values features\n",
       "3    0.27       al\n",
       "0    0.23       ri\n",
       "2    0.12       mg\n",
       "6    0.11       ca"
      ]
     },
     "execution_count": 12,
     "metadata": {},
     "output_type": "execute_result"
    }
   ],
   "source": [
    "\n",
    "model = model.sort_values(by=['values'], ascending=False).round(2)\n",
    "model.iloc[:4]"
   ]
  },
  {
   "cell_type": "code",
   "execution_count": 51,
   "id": "02385b6a",
   "metadata": {},
   "outputs": [],
   "source": [
    "import numpy as np\n",
    "import pandas as pd\n",
    "import plotly as py\n",
    "import plotly.tools as tls\n",
    "import plotly.offline as pyo\n",
    "import plotly.graph_objs as go"
   ]
  },
  {
   "cell_type": "code",
   "execution_count": 14,
   "id": "f18ae8d9",
   "metadata": {},
   "outputs": [
    {
     "data": {
      "text/plain": [
       "DenseVector([-74.7762, 0.2778, 2.2952, -5.4551, 1.4203, 1.2309, 0.6576, -6.1314, -5.5391])"
      ]
     },
     "execution_count": 14,
     "metadata": {},
     "output_type": "execute_result"
    }
   ],
   "source": [
    "lr_model.coefficients"
   ]
  },
  {
   "cell_type": "code",
   "execution_count": 15,
   "id": "715dbeef",
   "metadata": {},
   "outputs": [
    {
     "data": {
      "text/plain": [
       "DenseVector([0.59, -0.0, 0.0033, -0.0046, 0.0013, -0.0031, -0.0, -0.0031, -0.0025])"
      ]
     },
     "execution_count": 15,
     "metadata": {},
     "output_type": "execute_result"
    }
   ],
   "source": [
    "sv_model.coefficients"
   ]
  },
  {
   "cell_type": "code",
   "execution_count": 16,
   "id": "6bc6af31",
   "metadata": {},
   "outputs": [
    {
     "name": "stdout",
     "output_type": "stream",
     "text": [
      "Multinomial coefficients: [-74.77615636   0.27776015   2.29520498  -5.45513986   1.42025041\n",
      "   1.23091892   0.65764075  -6.13138296  -5.53912498]\n",
      "Multinomial intercepts: [0.03640969775046919]\n"
     ]
    }
   ],
   "source": [
    "print(\"Multinomial coefficients: \" + str(lr_model.coefficientMatrix.values))\n",
    "print(\"Multinomial intercepts: \" + str(lr_model.interceptVector))"
   ]
  },
  {
   "cell_type": "code",
   "execution_count": 17,
   "id": "f5ae896d",
   "metadata": {},
   "outputs": [
    {
     "name": "stdout",
     "output_type": "stream",
     "text": [
      "[-74.77615636   0.27776015   2.29520498  -5.45513986   1.42025041\n",
      "   1.23091892   0.65764075  -6.13138296  -5.53912498]\n",
      "0.03640969775046919\n"
     ]
    }
   ],
   "source": [
    "print(lr_model.coefficients.values)\n",
    "print(lr_model.intercept)"
   ]
  },
  {
   "cell_type": "code",
   "execution_count": 18,
   "id": "d6e70896",
   "metadata": {},
   "outputs": [
    {
     "data": {
      "text/plain": [
       "array([-74.77615636,   0.27776015,   2.29520498,  -5.45513986,\n",
       "         1.42025041,   1.23091892,   0.65764075,  -6.13138296,\n",
       "        -5.53912498])"
      ]
     },
     "execution_count": 18,
     "metadata": {},
     "output_type": "execute_result"
    }
   ],
   "source": [
    "coff = lr_model.coefficientMatrix.values\n",
    "coff"
   ]
  },
  {
   "cell_type": "code",
   "execution_count": 19,
   "id": "3a6a4f29",
   "metadata": {},
   "outputs": [
    {
     "data": {
      "text/html": [
       "<div>\n",
       "<style scoped>\n",
       "    .dataframe tbody tr th:only-of-type {\n",
       "        vertical-align: middle;\n",
       "    }\n",
       "\n",
       "    .dataframe tbody tr th {\n",
       "        vertical-align: top;\n",
       "    }\n",
       "\n",
       "    .dataframe thead th {\n",
       "        text-align: right;\n",
       "    }\n",
       "</style>\n",
       "<table border=\"1\" class=\"dataframe\">\n",
       "  <thead>\n",
       "    <tr style=\"text-align: right;\">\n",
       "      <th></th>\n",
       "      <th>values</th>\n",
       "      <th>features</th>\n",
       "    </tr>\n",
       "  </thead>\n",
       "  <tbody>\n",
       "    <tr>\n",
       "      <th>2</th>\n",
       "      <td>2.30</td>\n",
       "      <td>mg</td>\n",
       "    </tr>\n",
       "    <tr>\n",
       "      <th>4</th>\n",
       "      <td>1.42</td>\n",
       "      <td>si</td>\n",
       "    </tr>\n",
       "    <tr>\n",
       "      <th>5</th>\n",
       "      <td>1.23</td>\n",
       "      <td>k</td>\n",
       "    </tr>\n",
       "    <tr>\n",
       "      <th>6</th>\n",
       "      <td>0.66</td>\n",
       "      <td>ca</td>\n",
       "    </tr>\n",
       "    <tr>\n",
       "      <th>1</th>\n",
       "      <td>0.28</td>\n",
       "      <td>na</td>\n",
       "    </tr>\n",
       "    <tr>\n",
       "      <th>3</th>\n",
       "      <td>-5.46</td>\n",
       "      <td>al</td>\n",
       "    </tr>\n",
       "    <tr>\n",
       "      <th>8</th>\n",
       "      <td>-5.54</td>\n",
       "      <td>fe</td>\n",
       "    </tr>\n",
       "    <tr>\n",
       "      <th>7</th>\n",
       "      <td>-6.13</td>\n",
       "      <td>ba</td>\n",
       "    </tr>\n",
       "    <tr>\n",
       "      <th>0</th>\n",
       "      <td>-74.78</td>\n",
       "      <td>ri</td>\n",
       "    </tr>\n",
       "  </tbody>\n",
       "</table>\n",
       "</div>"
      ],
      "text/plain": [
       "   values features\n",
       "2    2.30       mg\n",
       "4    1.42       si\n",
       "5    1.23        k\n",
       "6    0.66       ca\n",
       "1    0.28       na\n",
       "3   -5.46       al\n",
       "8   -5.54       fe\n",
       "7   -6.13       ba\n",
       "0  -74.78       ri"
      ]
     },
     "execution_count": 19,
     "metadata": {},
     "output_type": "execute_result"
    }
   ],
   "source": [
    "model = pd.DataFrame(lr_model.coefficients.values, columns=[\"values\"])\n",
    "features_col = pd.Series(col)\n",
    "model[\"features\"] = features_col\n",
    "model = model.sort_values(by=['values'], ascending=False).round(2)\n",
    "model"
   ]
  },
  {
   "cell_type": "code",
   "execution_count": 20,
   "id": "6cd42b7b",
   "metadata": {},
   "outputs": [],
   "source": [
    "model[\"values\"]= model.iloc[:,0]/np.sum(model.iloc[:,0])"
   ]
  },
  {
   "cell_type": "code",
   "execution_count": 21,
   "id": "3e3e9ca9",
   "metadata": {},
   "outputs": [
    {
     "data": {
      "text/html": [
       "<div>\n",
       "<style scoped>\n",
       "    .dataframe tbody tr th:only-of-type {\n",
       "        vertical-align: middle;\n",
       "    }\n",
       "\n",
       "    .dataframe tbody tr th {\n",
       "        vertical-align: top;\n",
       "    }\n",
       "\n",
       "    .dataframe thead th {\n",
       "        text-align: right;\n",
       "    }\n",
       "</style>\n",
       "<table border=\"1\" class=\"dataframe\">\n",
       "  <thead>\n",
       "    <tr style=\"text-align: right;\">\n",
       "      <th></th>\n",
       "      <th>values</th>\n",
       "      <th>features</th>\n",
       "    </tr>\n",
       "  </thead>\n",
       "  <tbody>\n",
       "    <tr>\n",
       "      <th>2</th>\n",
       "      <td>-0.026738</td>\n",
       "      <td>mg</td>\n",
       "    </tr>\n",
       "    <tr>\n",
       "      <th>4</th>\n",
       "      <td>-0.016508</td>\n",
       "      <td>si</td>\n",
       "    </tr>\n",
       "    <tr>\n",
       "      <th>5</th>\n",
       "      <td>-0.014299</td>\n",
       "      <td>k</td>\n",
       "    </tr>\n",
       "    <tr>\n",
       "      <th>6</th>\n",
       "      <td>-0.007673</td>\n",
       "      <td>ca</td>\n",
       "    </tr>\n",
       "    <tr>\n",
       "      <th>1</th>\n",
       "      <td>-0.003255</td>\n",
       "      <td>na</td>\n",
       "    </tr>\n",
       "    <tr>\n",
       "      <th>3</th>\n",
       "      <td>0.063474</td>\n",
       "      <td>al</td>\n",
       "    </tr>\n",
       "    <tr>\n",
       "      <th>8</th>\n",
       "      <td>0.064404</td>\n",
       "      <td>fe</td>\n",
       "    </tr>\n",
       "    <tr>\n",
       "      <th>7</th>\n",
       "      <td>0.071262</td>\n",
       "      <td>ba</td>\n",
       "    </tr>\n",
       "    <tr>\n",
       "      <th>0</th>\n",
       "      <td>0.869333</td>\n",
       "      <td>ri</td>\n",
       "    </tr>\n",
       "  </tbody>\n",
       "</table>\n",
       "</div>"
      ],
      "text/plain": [
       "     values features\n",
       "2 -0.026738       mg\n",
       "4 -0.016508       si\n",
       "5 -0.014299        k\n",
       "6 -0.007673       ca\n",
       "1 -0.003255       na\n",
       "3  0.063474       al\n",
       "8  0.064404       fe\n",
       "7  0.071262       ba\n",
       "0  0.869333       ri"
      ]
     },
     "execution_count": 21,
     "metadata": {},
     "output_type": "execute_result"
    }
   ],
   "source": [
    "model"
   ]
  },
  {
   "cell_type": "code",
   "execution_count": 35,
   "id": "b9cadc53",
   "metadata": {},
   "outputs": [],
   "source": [
    "fi = pd.DataFrame((lr_model.coefficients.values/np.sum(lr_model.coefficients.values)), columns=[\"values\"])\n"
   ]
  },
  {
   "cell_type": "code",
   "execution_count": 36,
   "id": "1d16ffc5",
   "metadata": {},
   "outputs": [
    {
     "data": {
      "text/html": [
       "<div>\n",
       "<style scoped>\n",
       "    .dataframe tbody tr th:only-of-type {\n",
       "        vertical-align: middle;\n",
       "    }\n",
       "\n",
       "    .dataframe tbody tr th {\n",
       "        vertical-align: top;\n",
       "    }\n",
       "\n",
       "    .dataframe thead th {\n",
       "        text-align: right;\n",
       "    }\n",
       "</style>\n",
       "<table border=\"1\" class=\"dataframe\">\n",
       "  <thead>\n",
       "    <tr style=\"text-align: right;\">\n",
       "      <th></th>\n",
       "      <th>values</th>\n",
       "    </tr>\n",
       "  </thead>\n",
       "  <tbody>\n",
       "    <tr>\n",
       "      <th>0</th>\n",
       "      <td>0.869288</td>\n",
       "    </tr>\n",
       "    <tr>\n",
       "      <th>1</th>\n",
       "      <td>-0.003229</td>\n",
       "    </tr>\n",
       "    <tr>\n",
       "      <th>2</th>\n",
       "      <td>-0.026682</td>\n",
       "    </tr>\n",
       "    <tr>\n",
       "      <th>3</th>\n",
       "      <td>0.063417</td>\n",
       "    </tr>\n",
       "    <tr>\n",
       "      <th>4</th>\n",
       "      <td>-0.016511</td>\n",
       "    </tr>\n",
       "    <tr>\n",
       "      <th>5</th>\n",
       "      <td>-0.014310</td>\n",
       "    </tr>\n",
       "    <tr>\n",
       "      <th>6</th>\n",
       "      <td>-0.007645</td>\n",
       "    </tr>\n",
       "    <tr>\n",
       "      <th>7</th>\n",
       "      <td>0.071279</td>\n",
       "    </tr>\n",
       "    <tr>\n",
       "      <th>8</th>\n",
       "      <td>0.064393</td>\n",
       "    </tr>\n",
       "  </tbody>\n",
       "</table>\n",
       "</div>"
      ],
      "text/plain": [
       "     values\n",
       "0  0.869288\n",
       "1 -0.003229\n",
       "2 -0.026682\n",
       "3  0.063417\n",
       "4 -0.016511\n",
       "5 -0.014310\n",
       "6 -0.007645\n",
       "7  0.071279\n",
       "8  0.064393"
      ]
     },
     "execution_count": 36,
     "metadata": {},
     "output_type": "execute_result"
    }
   ],
   "source": [
    "fi"
   ]
  },
  {
   "cell_type": "code",
   "execution_count": 37,
   "id": "e8af4edc",
   "metadata": {},
   "outputs": [],
   "source": [
    "# fi[\"values\"] = fi.iloc[:, 0] / np.sum(fi.iloc[:, 0])"
   ]
  },
  {
   "cell_type": "code",
   "execution_count": 38,
   "id": "34c9f77e",
   "metadata": {},
   "outputs": [
    {
     "data": {
      "application/vnd.plotly.v1+json": {
       "config": {
        "plotlyServerURL": "https://plot.ly"
       },
       "data": [
        {
         "marker": {
          "color": "#32E0C4"
         },
         "type": "bar",
         "x": [
          "mg",
          "si",
          "k",
          "ca",
          "na",
          "al",
          "fe",
          "ba",
          "ri"
         ],
         "y": [
          -2.67379679144385,
          -1.6507788886305508,
          -1.4299000232504067,
          -0.7672634271099743,
          -0.32550569634968607,
          6.347361078818879,
          6.4403627063473605,
          7.126249709369913,
          86.93327133224831
         ]
        }
       ],
       "layout": {
        "paper_bgcolor": "rgba(0,0,0,0)",
        "plot_bgcolor": "rgba(0,0,0,0)",
        "template": {
         "data": {
          "bar": [
           {
            "error_x": {
             "color": "#2a3f5f"
            },
            "error_y": {
             "color": "#2a3f5f"
            },
            "marker": {
             "line": {
              "color": "#E5ECF6",
              "width": 0.5
             }
            },
            "type": "bar"
           }
          ],
          "barpolar": [
           {
            "marker": {
             "line": {
              "color": "#E5ECF6",
              "width": 0.5
             }
            },
            "type": "barpolar"
           }
          ],
          "carpet": [
           {
            "aaxis": {
             "endlinecolor": "#2a3f5f",
             "gridcolor": "white",
             "linecolor": "white",
             "minorgridcolor": "white",
             "startlinecolor": "#2a3f5f"
            },
            "baxis": {
             "endlinecolor": "#2a3f5f",
             "gridcolor": "white",
             "linecolor": "white",
             "minorgridcolor": "white",
             "startlinecolor": "#2a3f5f"
            },
            "type": "carpet"
           }
          ],
          "choropleth": [
           {
            "colorbar": {
             "outlinewidth": 0,
             "ticks": ""
            },
            "type": "choropleth"
           }
          ],
          "contour": [
           {
            "colorbar": {
             "outlinewidth": 0,
             "ticks": ""
            },
            "colorscale": [
             [
              0,
              "#0d0887"
             ],
             [
              0.1111111111111111,
              "#46039f"
             ],
             [
              0.2222222222222222,
              "#7201a8"
             ],
             [
              0.3333333333333333,
              "#9c179e"
             ],
             [
              0.4444444444444444,
              "#bd3786"
             ],
             [
              0.5555555555555556,
              "#d8576b"
             ],
             [
              0.6666666666666666,
              "#ed7953"
             ],
             [
              0.7777777777777778,
              "#fb9f3a"
             ],
             [
              0.8888888888888888,
              "#fdca26"
             ],
             [
              1,
              "#f0f921"
             ]
            ],
            "type": "contour"
           }
          ],
          "contourcarpet": [
           {
            "colorbar": {
             "outlinewidth": 0,
             "ticks": ""
            },
            "type": "contourcarpet"
           }
          ],
          "heatmap": [
           {
            "colorbar": {
             "outlinewidth": 0,
             "ticks": ""
            },
            "colorscale": [
             [
              0,
              "#0d0887"
             ],
             [
              0.1111111111111111,
              "#46039f"
             ],
             [
              0.2222222222222222,
              "#7201a8"
             ],
             [
              0.3333333333333333,
              "#9c179e"
             ],
             [
              0.4444444444444444,
              "#bd3786"
             ],
             [
              0.5555555555555556,
              "#d8576b"
             ],
             [
              0.6666666666666666,
              "#ed7953"
             ],
             [
              0.7777777777777778,
              "#fb9f3a"
             ],
             [
              0.8888888888888888,
              "#fdca26"
             ],
             [
              1,
              "#f0f921"
             ]
            ],
            "type": "heatmap"
           }
          ],
          "heatmapgl": [
           {
            "colorbar": {
             "outlinewidth": 0,
             "ticks": ""
            },
            "colorscale": [
             [
              0,
              "#0d0887"
             ],
             [
              0.1111111111111111,
              "#46039f"
             ],
             [
              0.2222222222222222,
              "#7201a8"
             ],
             [
              0.3333333333333333,
              "#9c179e"
             ],
             [
              0.4444444444444444,
              "#bd3786"
             ],
             [
              0.5555555555555556,
              "#d8576b"
             ],
             [
              0.6666666666666666,
              "#ed7953"
             ],
             [
              0.7777777777777778,
              "#fb9f3a"
             ],
             [
              0.8888888888888888,
              "#fdca26"
             ],
             [
              1,
              "#f0f921"
             ]
            ],
            "type": "heatmapgl"
           }
          ],
          "histogram": [
           {
            "marker": {
             "colorbar": {
              "outlinewidth": 0,
              "ticks": ""
             }
            },
            "type": "histogram"
           }
          ],
          "histogram2d": [
           {
            "colorbar": {
             "outlinewidth": 0,
             "ticks": ""
            },
            "colorscale": [
             [
              0,
              "#0d0887"
             ],
             [
              0.1111111111111111,
              "#46039f"
             ],
             [
              0.2222222222222222,
              "#7201a8"
             ],
             [
              0.3333333333333333,
              "#9c179e"
             ],
             [
              0.4444444444444444,
              "#bd3786"
             ],
             [
              0.5555555555555556,
              "#d8576b"
             ],
             [
              0.6666666666666666,
              "#ed7953"
             ],
             [
              0.7777777777777778,
              "#fb9f3a"
             ],
             [
              0.8888888888888888,
              "#fdca26"
             ],
             [
              1,
              "#f0f921"
             ]
            ],
            "type": "histogram2d"
           }
          ],
          "histogram2dcontour": [
           {
            "colorbar": {
             "outlinewidth": 0,
             "ticks": ""
            },
            "colorscale": [
             [
              0,
              "#0d0887"
             ],
             [
              0.1111111111111111,
              "#46039f"
             ],
             [
              0.2222222222222222,
              "#7201a8"
             ],
             [
              0.3333333333333333,
              "#9c179e"
             ],
             [
              0.4444444444444444,
              "#bd3786"
             ],
             [
              0.5555555555555556,
              "#d8576b"
             ],
             [
              0.6666666666666666,
              "#ed7953"
             ],
             [
              0.7777777777777778,
              "#fb9f3a"
             ],
             [
              0.8888888888888888,
              "#fdca26"
             ],
             [
              1,
              "#f0f921"
             ]
            ],
            "type": "histogram2dcontour"
           }
          ],
          "mesh3d": [
           {
            "colorbar": {
             "outlinewidth": 0,
             "ticks": ""
            },
            "type": "mesh3d"
           }
          ],
          "parcoords": [
           {
            "line": {
             "colorbar": {
              "outlinewidth": 0,
              "ticks": ""
             }
            },
            "type": "parcoords"
           }
          ],
          "pie": [
           {
            "automargin": true,
            "type": "pie"
           }
          ],
          "scatter": [
           {
            "marker": {
             "colorbar": {
              "outlinewidth": 0,
              "ticks": ""
             }
            },
            "type": "scatter"
           }
          ],
          "scatter3d": [
           {
            "line": {
             "colorbar": {
              "outlinewidth": 0,
              "ticks": ""
             }
            },
            "marker": {
             "colorbar": {
              "outlinewidth": 0,
              "ticks": ""
             }
            },
            "type": "scatter3d"
           }
          ],
          "scattercarpet": [
           {
            "marker": {
             "colorbar": {
              "outlinewidth": 0,
              "ticks": ""
             }
            },
            "type": "scattercarpet"
           }
          ],
          "scattergeo": [
           {
            "marker": {
             "colorbar": {
              "outlinewidth": 0,
              "ticks": ""
             }
            },
            "type": "scattergeo"
           }
          ],
          "scattergl": [
           {
            "marker": {
             "colorbar": {
              "outlinewidth": 0,
              "ticks": ""
             }
            },
            "type": "scattergl"
           }
          ],
          "scattermapbox": [
           {
            "marker": {
             "colorbar": {
              "outlinewidth": 0,
              "ticks": ""
             }
            },
            "type": "scattermapbox"
           }
          ],
          "scatterpolar": [
           {
            "marker": {
             "colorbar": {
              "outlinewidth": 0,
              "ticks": ""
             }
            },
            "type": "scatterpolar"
           }
          ],
          "scatterpolargl": [
           {
            "marker": {
             "colorbar": {
              "outlinewidth": 0,
              "ticks": ""
             }
            },
            "type": "scatterpolargl"
           }
          ],
          "scatterternary": [
           {
            "marker": {
             "colorbar": {
              "outlinewidth": 0,
              "ticks": ""
             }
            },
            "type": "scatterternary"
           }
          ],
          "surface": [
           {
            "colorbar": {
             "outlinewidth": 0,
             "ticks": ""
            },
            "colorscale": [
             [
              0,
              "#0d0887"
             ],
             [
              0.1111111111111111,
              "#46039f"
             ],
             [
              0.2222222222222222,
              "#7201a8"
             ],
             [
              0.3333333333333333,
              "#9c179e"
             ],
             [
              0.4444444444444444,
              "#bd3786"
             ],
             [
              0.5555555555555556,
              "#d8576b"
             ],
             [
              0.6666666666666666,
              "#ed7953"
             ],
             [
              0.7777777777777778,
              "#fb9f3a"
             ],
             [
              0.8888888888888888,
              "#fdca26"
             ],
             [
              1,
              "#f0f921"
             ]
            ],
            "type": "surface"
           }
          ],
          "table": [
           {
            "cells": {
             "fill": {
              "color": "#EBF0F8"
             },
             "line": {
              "color": "white"
             }
            },
            "header": {
             "fill": {
              "color": "#C8D4E3"
             },
             "line": {
              "color": "white"
             }
            },
            "type": "table"
           }
          ]
         },
         "layout": {
          "annotationdefaults": {
           "arrowcolor": "#2a3f5f",
           "arrowhead": 0,
           "arrowwidth": 1
          },
          "autotypenumbers": "strict",
          "coloraxis": {
           "colorbar": {
            "outlinewidth": 0,
            "ticks": ""
           }
          },
          "colorscale": {
           "diverging": [
            [
             0,
             "#8e0152"
            ],
            [
             0.1,
             "#c51b7d"
            ],
            [
             0.2,
             "#de77ae"
            ],
            [
             0.3,
             "#f1b6da"
            ],
            [
             0.4,
             "#fde0ef"
            ],
            [
             0.5,
             "#f7f7f7"
            ],
            [
             0.6,
             "#e6f5d0"
            ],
            [
             0.7,
             "#b8e186"
            ],
            [
             0.8,
             "#7fbc41"
            ],
            [
             0.9,
             "#4d9221"
            ],
            [
             1,
             "#276419"
            ]
           ],
           "sequential": [
            [
             0,
             "#0d0887"
            ],
            [
             0.1111111111111111,
             "#46039f"
            ],
            [
             0.2222222222222222,
             "#7201a8"
            ],
            [
             0.3333333333333333,
             "#9c179e"
            ],
            [
             0.4444444444444444,
             "#bd3786"
            ],
            [
             0.5555555555555556,
             "#d8576b"
            ],
            [
             0.6666666666666666,
             "#ed7953"
            ],
            [
             0.7777777777777778,
             "#fb9f3a"
            ],
            [
             0.8888888888888888,
             "#fdca26"
            ],
            [
             1,
             "#f0f921"
            ]
           ],
           "sequentialminus": [
            [
             0,
             "#0d0887"
            ],
            [
             0.1111111111111111,
             "#46039f"
            ],
            [
             0.2222222222222222,
             "#7201a8"
            ],
            [
             0.3333333333333333,
             "#9c179e"
            ],
            [
             0.4444444444444444,
             "#bd3786"
            ],
            [
             0.5555555555555556,
             "#d8576b"
            ],
            [
             0.6666666666666666,
             "#ed7953"
            ],
            [
             0.7777777777777778,
             "#fb9f3a"
            ],
            [
             0.8888888888888888,
             "#fdca26"
            ],
            [
             1,
             "#f0f921"
            ]
           ]
          },
          "colorway": [
           "#636efa",
           "#EF553B",
           "#00cc96",
           "#ab63fa",
           "#FFA15A",
           "#19d3f3",
           "#FF6692",
           "#B6E880",
           "#FF97FF",
           "#FECB52"
          ],
          "font": {
           "color": "#2a3f5f"
          },
          "geo": {
           "bgcolor": "white",
           "lakecolor": "white",
           "landcolor": "#E5ECF6",
           "showlakes": true,
           "showland": true,
           "subunitcolor": "white"
          },
          "hoverlabel": {
           "align": "left"
          },
          "hovermode": "closest",
          "mapbox": {
           "style": "light"
          },
          "paper_bgcolor": "white",
          "plot_bgcolor": "#E5ECF6",
          "polar": {
           "angularaxis": {
            "gridcolor": "white",
            "linecolor": "white",
            "ticks": ""
           },
           "bgcolor": "#E5ECF6",
           "radialaxis": {
            "gridcolor": "white",
            "linecolor": "white",
            "ticks": ""
           }
          },
          "scene": {
           "xaxis": {
            "backgroundcolor": "#E5ECF6",
            "gridcolor": "white",
            "gridwidth": 2,
            "linecolor": "white",
            "showbackground": true,
            "ticks": "",
            "zerolinecolor": "white"
           },
           "yaxis": {
            "backgroundcolor": "#E5ECF6",
            "gridcolor": "white",
            "gridwidth": 2,
            "linecolor": "white",
            "showbackground": true,
            "ticks": "",
            "zerolinecolor": "white"
           },
           "zaxis": {
            "backgroundcolor": "#E5ECF6",
            "gridcolor": "white",
            "gridwidth": 2,
            "linecolor": "white",
            "showbackground": true,
            "ticks": "",
            "zerolinecolor": "white"
           }
          },
          "shapedefaults": {
           "line": {
            "color": "#2a3f5f"
           }
          },
          "ternary": {
           "aaxis": {
            "gridcolor": "white",
            "linecolor": "white",
            "ticks": ""
           },
           "baxis": {
            "gridcolor": "white",
            "linecolor": "white",
            "ticks": ""
           },
           "bgcolor": "#E5ECF6",
           "caxis": {
            "gridcolor": "white",
            "linecolor": "white",
            "ticks": ""
           }
          },
          "title": {
           "x": 0.05
          },
          "xaxis": {
           "automargin": true,
           "gridcolor": "white",
           "linecolor": "white",
           "ticks": "",
           "title": {
            "standoff": 15
           },
           "zerolinecolor": "white",
           "zerolinewidth": 2
          },
          "yaxis": {
           "automargin": true,
           "gridcolor": "white",
           "linecolor": "white",
           "ticks": "",
           "title": {
            "standoff": 15
           },
           "zerolinecolor": "white",
           "zerolinewidth": 2
          }
         }
        },
        "title": {
         "text": "<b>RANDOM FOREST BASED FEATURE IMPORTANCE<b> ",
         "x": 0.5
        },
        "xaxis": {
         "linecolor": "black",
         "linewidth": 1,
         "rangemode": "nonnegative",
         "showline": true,
         "title": {
          "text": "Features"
         }
        },
        "yaxis": {
         "linecolor": "black",
         "linewidth": 1,
         "rangemode": "nonnegative",
         "showline": true,
         "title": {
          "text": "Feature Importance %"
         }
        }
       }
      }
     },
     "metadata": {},
     "output_type": "display_data"
    }
   ],
   "source": [
    "trace = go.Bar(x=model[\"features\"], y=model[\"values\"]*100, marker=dict(color='#32E0C4'))\n",
    "data = [trace]\n",
    "layout = go.Layout()\n",
    "fig = go.Figure(data=data, layout=layout)\n",
    "fig.update_layout({'plot_bgcolor': 'rgba(0,0,0,0)', 'paper_bgcolor': 'rgba(0,0,0,0)'})\n",
    "fig.update_layout(title_text=\"<b>RANDOM FOREST BASED FEATURE IMPORTANCE<b> \", title_x=0.5)\n",
    "fig.update_xaxes(title_text='Features')\n",
    "fig.update_yaxes(title_text='Feature Importance %')\n",
    "fig.update_xaxes(showline=True, linewidth=1, linecolor='black', rangemode='nonnegative')\n",
    "fig.update_yaxes(showline=True, linewidth=1, linecolor='black', rangemode='nonnegative')"
   ]
  },
  {
   "cell_type": "code",
   "execution_count": 40,
   "id": "25bea6d7",
   "metadata": {},
   "outputs": [
    {
     "data": {
      "text/plain": [
       "'temp-plot.html'"
      ]
     },
     "execution_count": 40,
     "metadata": {},
     "output_type": "execute_result"
    }
   ],
   "source": [
    "pyo.plot(fig)"
   ]
  },
  {
   "cell_type": "code",
   "execution_count": 41,
   "id": "21be875c",
   "metadata": {},
   "outputs": [],
   "source": [
    "\n",
    "def feat_imp(model, data,  target, depth):\n",
    "    if model.lower() == \"RandomForestClassifier\".lower():\n",
    "        features = data.drop(target)\n",
    "        data = VectorAssembler(inputCols=features.columns, outputCol=\"feature\").transform(data)\n",
    "        model = RandomForestClassifier(labelCol=target, featuresCol=\"feature\", numTrees=10)\n",
    "        model = model.fit(data)\n",
    "        fi = pd.DataFrame(model.featureImportances.values, columns=[\"values\"])\n",
    "        features_col = pd.Series(features.columns)\n",
    "        fi[\"features\"] = features_col\n",
    "        fi = fi.sort_values(by=['values'], ascending=False).round(2)\n",
    "        fi = fi.iloc[:depth]\n",
    "        trace = go.Bar(x=fi[\"features\"], y=fi[\"values\"], marker=dict(color='#32E0C4'))\n",
    "        data = [trace]\n",
    "        layout = go.Layout()\n",
    "        fig = go.Figure(data=data, layout=layout)\n",
    "        fig.update_layout({'plot_bgcolor': 'rgba(0,0,0,0)', 'paper_bgcolor': 'rgba(0,0,0,0)'})\n",
    "        fig.update_layout(title_text=\"<b>RANDOM FOREST BASED FEATURE IMPORTANCE<b> \", title_x=0.5)\n",
    "        fig.update_xaxes(title_text='Features')\n",
    "        fig.update_yaxes(title_text='Feature Importance %')\n",
    "        fig.update_xaxes(showline=True, linewidth=1, linecolor='black', rangemode='nonnegative')\n",
    "        fig.update_yaxes(showline=True, linewidth=1, linecolor='black', rangemode='nonnegative')\n",
    "        return fi, fig\n",
    "    elif model.lower() == \"LogisticRegression\".lower():\n",
    "        features = data.drop(target)\n",
    "        data = VectorAssembler(inputCols=features.columns, outputCol=\"feature\").transform(data)\n",
    "        model = LogisticRegression(labelCol=target, featuresCol=\"feature\")\n",
    "        model = model.fit(data)\n",
    "        fi = pd.DataFrame(model.coefficients.values/np.sum(model.coefficients.values), columns=[\"values\"])\n",
    "        features_col = pd.Series(features.columns)\n",
    "        fi[\"features\"] = features_col\n",
    "        fi = fi.sort_values(by=['values'], ascending=False).round(2)\n",
    "        fi = fi.iloc[:depth]\n",
    "        trace = go.Bar(x=fi[\"features\"], y=fi[\"values\"]*100, marker=dict(color='#32E0C4'))\n",
    "        data = [trace]\n",
    "        layout = go.Layout()\n",
    "        fig = go.Figure(data=data, layout=layout)\n",
    "        fig.update_layout({'plot_bgcolor': 'rgba(0,0,0,0)', 'paper_bgcolor': 'rgba(0,0,0,0)'})\n",
    "        fig.update_layout(title_text=\"<b>Logistic Regression BASED FEATURE IMPORTANCE<b> \", title_x=0.5)\n",
    "        fig.update_xaxes(title_text='Features')\n",
    "        fig.update_yaxes(title_text='Feature Importance %')\n",
    "        fig.update_xaxes(showline=True, linewidth=1, linecolor='black', rangemode='nonnegative')\n",
    "        fig.update_yaxes(showline=True, linewidth=1, linecolor='black', rangemode='nonnegative')\n",
    "        return fi, fig\n",
    "    elif model.lower() == \"LinearSVC\".lower():\n",
    "        features = data.drop(target)\n",
    "        data = VectorAssembler(inputCols=features.columns, outputCol=\"feature\").transform(data)\n",
    "        model = LinearSVC(maxIter=10, regParam=0.1, labelCol=\"type\", featuresCol=\"feature\")\n",
    "        model = model.fit(data)\n",
    "        fi = pd.DataFrame(model.coefficients.values, columns=[\"values\"])\n",
    "        features_col = pd.Series(features.columns)\n",
    "        fi[\"features\"] = features_col\n",
    "        fi = fi.sort_values(by=['values'], ascending=False).round(2)\n",
    "        fi = fi.iloc[:depth]\n",
    "        data = [trace]\n",
    "        layout = go.Layout()\n",
    "        fig = go.Figure(data=data, layout=layout)\n",
    "        fig.update_layout({'plot_bgcolor': 'rgba(0,0,0,0)', 'paper_bgcolor': 'rgba(0,0,0,0)'})\n",
    "        fig.update_layout(title_text=\"<b>LinearSVC BASED FEATURE IMPORTANCE<b> \", title_x=0.5)\n",
    "        fig.update_xaxes(title_text='Features')\n",
    "        fig.update_yaxes(title_text='Feature Importance %')\n",
    "        fig.update_xaxes(showline=True, linewidth=1, linecolor='black', rangemode='nonnegative')\n",
    "        fig.update_yaxes(showline=True, linewidth=1, linecolor='black', rangemode='nonnegative')\n",
    "        return fi, fig\n"
   ]
  },
  {
   "cell_type": "code",
   "execution_count": 42,
   "id": "110bcfa0",
   "metadata": {},
   "outputs": [],
   "source": [
    "data = spark.read.csv(\"./Data/glass.csv\",header=True,inferSchema=True)\n",
    "\n",
    "#Feture col name\n",
    "data = data.drop(\"Index\")\n",
    "target=\"type\"\n",
    "depth =8"
   ]
  },
  {
   "cell_type": "code",
   "execution_count": 43,
   "id": "1607c313",
   "metadata": {},
   "outputs": [],
   "source": [
    "# LinearSVC,RandomForestClassifier,LinearSVC\n",
    "fi,fig = feat_imp(\"RandomForestClassifier\", data,  target, depth)\n"
   ]
  },
  {
   "cell_type": "code",
   "execution_count": 44,
   "id": "cc0fde66",
   "metadata": {},
   "outputs": [
    {
     "data": {
      "text/plain": [
       "'temp-plot.html'"
      ]
     },
     "execution_count": 44,
     "metadata": {},
     "output_type": "execute_result"
    }
   ],
   "source": [
    "pyo.plot(fig)"
   ]
  },
  {
   "cell_type": "code",
   "execution_count": null,
   "id": "f2346eb2",
   "metadata": {},
   "outputs": [],
   "source": []
  },
  {
   "cell_type": "code",
   "execution_count": null,
   "id": "c6fe683e",
   "metadata": {},
   "outputs": [],
   "source": []
  },
  {
   "cell_type": "code",
   "execution_count": null,
   "id": "fb1b6fc1",
   "metadata": {},
   "outputs": [],
   "source": []
  },
  {
   "cell_type": "code",
   "execution_count": null,
   "id": "f9bbeb9b",
   "metadata": {},
   "outputs": [],
   "source": []
  },
  {
   "cell_type": "code",
   "execution_count": null,
   "id": "b33b4dff",
   "metadata": {},
   "outputs": [],
   "source": []
  },
  {
   "cell_type": "code",
   "execution_count": 60,
   "id": "7ea90e4f",
   "metadata": {},
   "outputs": [],
   "source": [
    "from pyspark.mllib.evaluation import BinaryClassificationMetrics\n",
    "\n",
    "class CurveMetrics(BinaryClassificationMetrics):\n",
    "    def __init__(self, *args):\n",
    "        super(CurveMetrics, self).__init__(*args)\n",
    "\n",
    "    def _to_list(self, rdd):\n",
    "        points = []\n",
    "        # Note this collect could be inefficient for large datasets \n",
    "        # considering there may be one probability per datapoint (at most)\n",
    "        # The Scala version takes a numBins parameter, \n",
    "        # but it doesn't seem possible to pass this from Python to Java\n",
    "        for row in rdd.collect():\n",
    "            # Results are returned as type scala.Tuple2, \n",
    "            # which doesn't appear to have a py4j mapping\n",
    "            points += [(float(row._1()), float(row._2()))]\n",
    "        return points\n",
    "\n",
    "    def get_curve(self, method):\n",
    "        rdd = getattr(self._java_model, method)().toJavaRDD()\n",
    "        return self._to_list(rdd)"
   ]
  },
  {
   "cell_type": "code",
   "execution_count": null,
   "id": "78f9839f",
   "metadata": {},
   "outputs": [],
   "source": [
    "import matplotlib.pyplot as plt\n",
    "\n",
    "# Create a Pipeline estimator and fit on train DF, predict on test DF\n",
    "predictions = lr_model.transform(train)\n",
    "\n",
    "\n",
    "# Returns as a list (false positive rate, true positive rate)\n",
    "preds = predictions.select('type','probability').rdd.map(lambda row: (float(row['probability'][1]), float(row['type'])))\n",
    "points = CurveMetrics(preds).get_curve('roc')\n",
    "\n",
    "\n",
    "plt.figure()\n",
    "x_val = [x[0] for x in points]\n",
    "y_val = [x[1] for x in points]\n",
    "plt.title(\"ROC\")\n",
    "plt.xlabel(\"FPR\")\n",
    "plt.ylabel(\"TPR\")\n",
    "plt.plot(x_val, y_val)"
   ]
  },
  {
   "cell_type": "code",
   "execution_count": 86,
   "id": "f4669c9f",
   "metadata": {},
   "outputs": [],
   "source": [
    "predictions = rf_model.transform(train)\n"
   ]
  },
  {
   "cell_type": "code",
   "execution_count": null,
   "id": "d646812b",
   "metadata": {},
   "outputs": [],
   "source": [
    "from handyspark import BinaryClassificationMetrics\n"
   ]
  },
  {
   "cell_type": "code",
   "execution_count": 109,
   "id": "c2791fcc",
   "metadata": {},
   "outputs": [
    {
     "data": {
      "text/plain": [
       "DataFrame[feature: vector, type: int]"
      ]
     },
     "execution_count": 109,
     "metadata": {},
     "output_type": "execute_result"
    }
   ],
   "source": [
    "train"
   ]
  },
  {
   "cell_type": "code",
   "execution_count": null,
   "id": "ba660189",
   "metadata": {},
   "outputs": [],
   "source": [
    "stratify(['Pclass']).cols[['Age', 'logFare']].scatterplot(figsize=(12, 6))"
   ]
  },
  {
   "cell_type": "code",
   "execution_count": 105,
   "id": "f96cd605",
   "metadata": {},
   "outputs": [],
   "source": [
    "bcm = BinaryClassificationMetrics(preds)"
   ]
  },
  {
   "cell_type": "code",
   "execution_count": 108,
   "id": "932273e4",
   "metadata": {},
   "outputs": [
    {
     "data": {
      "text/plain": [
       "<AxesSubplot:title={'center':'Precision-Recall Curve'}, xlabel='Recall', ylabel='Precision'>"
      ]
     },
     "execution_count": 108,
     "metadata": {},
     "output_type": "execute_result"
    },
    {
     "data": {
      "image/png": "[encoded data removed]",
      "text/plain": [
       "<Figure size 432x288 with 1 Axes>"
      ]
     },
     "metadata": {
      "needs_background": "light"
     },
     "output_type": "display_data"
    }
   ],
   "source": [
    "bcm.plot_pr_curve()"
   ]
  },
  {
   "cell_type": "code",
   "execution_count": 87,
   "id": "3efad33f",
   "metadata": {},
   "outputs": [
    {
     "data": {
      "text/plain": [
       "PythonRDD[984] at RDD at PythonRDD.scala:53"
      ]
     },
     "execution_count": 87,
     "metadata": {},
     "output_type": "execute_result"
    }
   ],
   "source": [
    "preds = predictions.select('type','probability').rdd.map(lambda row: (float(row['probability'][1]), float(row['type'])))\n",
    "preds"
   ]
  },
  {
   "cell_type": "code",
   "execution_count": 56,
   "id": "132a9bf9",
   "metadata": {},
   "outputs": [],
   "source": [
    "# BCM = predictions.select(col(\"prediction\").cast('float'),col(\"type\").cast('float')).rdd.map(tuple)\n"
   ]
  },
  {
   "cell_type": "code",
   "execution_count": null,
   "id": "2f897f2a",
   "metadata": {},
   "outputs": [],
   "source": [
    "# type(preds)"
   ]
  },
  {
   "cell_type": "code",
   "execution_count": null,
   "id": "bd966912",
   "metadata": {},
   "outputs": [],
   "source": [
    "# model_fpr = np.array([x[0] for x in points])\n",
    "# model_tpr = np.array([x[1] for x in points])"
   ]
  },
  {
   "cell_type": "code",
   "execution_count": null,
   "id": "94a8371d",
   "metadata": {},
   "outputs": [],
   "source": [
    "from plotly.subplots import make_subplots\n",
    "\n",
    "go.Figure()\n",
    "fig = make_subplots(specs=[[{\"secondary_y\": True}]])\n",
    "fig.add_trace(go.Scatter(x=model_fpr, y=1 - model_tpr, mode='lines', name='Specificity', line=dict(color='rgba(0,0,0,255)')))\n",
    "fig.add_trace(go.Scatter(x=model_fpr, y=model_tpr, mode='lines', name='Sensitivity', line=dict(color='rgba(0,0,255,255)')),secondary_y=True)\n",
    "fig.update_layout(title_text=f\"<b>SPECIFICITY VS SENSITIVITY<b>\", title_x=0.5)\n",
    "fig.update_layout({'plot_bgcolor': 'rgba(0,0,0,0)', 'paper_bgcolor': 'rgba(0,0,0,0)'})\n",
    "fig.update_yaxes(title_text='Specificity ')\n",
    "fig.update_yaxes(title_text='Sensitivity')\n",
    "fig.update_xaxes(title_text='Cutoff')\n",
    "fig.update_xaxes(showline=True, linewidth=1, linecolor='black', rangemode='nonnegative')\n",
    "fig.update_yaxes(showline=True, linewidth=1, linecolor='black', rangemode='nonnegative')\n",
    "fig.update_layout(legend=dict(orientation=\"h\", yanchor=\"bottom\", y=-0.23, xanchor=\"right\", x=0.6))"
   ]
  },
  {
   "cell_type": "code",
   "execution_count": null,
   "id": "e4e5bf9a",
   "metadata": {},
   "outputs": [],
   "source": [
    "from plotly.subplots import make_subplots\n",
    "\n",
    "fig = go.Figure()\n",
    "fig.add_trace(go.Scatter(x=model_fpr, y=model_tpr, mode='lines', name=\"ROC\", line=dict(color='rgba(0,0,0,255)')))\n",
    "fig.update_layout(title_text=f\"<b>ROC AUC Curve<b>\", title_x=0.5)\n",
    "fig.update_layout({'plot_bgcolor': 'rgba(0,0,0,0)', 'paper_bgcolor': 'rgba(0,0,0,0)'})\n",
    "fig.update_xaxes(title_text='False Positive Rate')\n",
    "fig.update_yaxes(title_text='True Positive Rate')\n",
    "fig.update_xaxes(showline=True, linewidth=1, linecolor='black', rangemode='nonnegative')\n",
    "fig.update_yaxes(showline=True, linewidth=1, linecolor='black', rangemode='nonnegative')\n",
    "fig.update_layout(legend=dict(orientation=\"h\", yanchor=\"bottom\", y=-0.23, xanchor=\"right\", x=0.6))"
   ]
  },
  {
   "cell_type": "code",
   "execution_count": null,
   "id": "7fd1e525",
   "metadata": {},
   "outputs": [],
   "source": []
  },
  {
   "cell_type": "code",
   "execution_count": null,
   "id": "7f2edbaf",
   "metadata": {},
   "outputs": [],
   "source": [
    "pyo.plot(fig)"
   ]
  },
  {
   "cell_type": "code",
   "execution_count": null,
   "id": "0c65f2c8",
   "metadata": {},
   "outputs": [],
   "source": [
    "predictions"
   ]
  },
  {
   "cell_type": "code",
   "execution_count": null,
   "id": "d8f6e684",
   "metadata": {},
   "outputs": [],
   "source": [
    "model_fpr, model_tpr = lr_model.summary.roc.select([\"FPR\"]).toPandas(), lr_model.summary.roc.select([\"TPR\"]).toPandas()\n"
   ]
  },
  {
   "cell_type": "code",
   "execution_count": null,
   "id": "08083536",
   "metadata": {},
   "outputs": [],
   "source": [
    "plt.figure()\n",
    "plt.title(\"ROC\")\n",
    "plt.xlabel(\"FPR\")\n",
    "plt.ylabel(\"TPR\")\n",
    "plt.plot(model_fpr, model_tpr)"
   ]
  },
  {
   "cell_type": "code",
   "execution_count": null,
   "id": "c38fa8bc",
   "metadata": {},
   "outputs": [],
   "source": [
    "from sklearn.metrics import roc_curve\n"
   ]
  },
  {
   "cell_type": "code",
   "execution_count": 88,
   "id": "3fc1f3a9",
   "metadata": {},
   "outputs": [],
   "source": [
    "y = predictions.select(target_column).toPandas()\n",
    "prob = udf(lambda v: float(v[1]), FloatType())\n",
    "proba = predictions.select(prob('probability')).toPandas()\n",
    "# model_fpr, model_tpr, _ = roc_curve(y, proba)"
   ]
  },
  {
   "cell_type": "code",
   "execution_count": 95,
   "id": "dc3a18dd",
   "metadata": {},
   "outputs": [],
   "source": [
    "points = metrics.get_curve('roc')\n",
    "model_fpr = np.array([x[0] for x in points])\n",
    "model_tpr = np.array([x[1] for x in points])"
   ]
  },
  {
   "cell_type": "code",
   "execution_count": 96,
   "id": "7a9702f5",
   "metadata": {},
   "outputs": [
    {
     "data": {
      "text/plain": [
       "[<matplotlib.lines.Line2D at 0x7fbb3d6bc220>]"
      ]
     },
     "execution_count": 96,
     "metadata": {},
     "output_type": "execute_result"
    },
    {
     "data": {
      "image/png": "[encoded data removed]",
      "text/plain": [
       "<Figure size 432x288 with 1 Axes>"
      ]
     },
     "metadata": {
      "needs_background": "light"
     },
     "output_type": "display_data"
    }
   ],
   "source": [
    "plt.figure()\n",
    "plt.title(\"ROC\")\n",
    "plt.xlabel(\"FPR\")\n",
    "plt.ylabel(\"TPR\")\n",
    "plt.plot(model_fpr, model_tpr)"
   ]
  },
  {
   "cell_type": "code",
   "execution_count": 97,
   "id": "cbc87344",
   "metadata": {},
   "outputs": [],
   "source": [
    "metrics = CurveMetrics(preds)\n",
    "# # metrics.get_curve('roc')\n",
    "# # metrics.get_curve('fMeasureByThreshold')\n",
    "# metrics.get_curve('precisionByThreshold')\n",
    "# # metrics.get_curve('recallByThreshold')\n",
    "# # metrics.get_curve('recallByThreshold')\n",
    "# # metrics.areaUnderROC\n",
    "# # metrics.areaUnderPR"
   ]
  },
  {
   "cell_type": "code",
   "execution_count": 92,
   "id": "3de0bac8",
   "metadata": {},
   "outputs": [],
   "source": [
    "# metrics.get_curve('roc')\n",
    "# metrics.get_curve('fMeasureByThreshold')\n",
    "p_point=metrics.get_curve('precisionByThreshold')\n",
    "r_point=metrics.get_curve('recallByThreshold')\n",
    "# metrics.get_curve('recallByThreshold')\n",
    "# metrics.areaUnderROC\n",
    "# metrics.areaUnderPR"
   ]
  },
  {
   "cell_type": "code",
   "execution_count": 99,
   "id": "546c49f9",
   "metadata": {},
   "outputs": [
    {
     "data": {
      "text/plain": [
       "array([0.94801587, 0.9386849 , 0.92370085, 0.903252  , 0.89298115,\n",
       "       0.88086404, 0.8808437 , 0.87214782, 0.86989343, 0.85854933,\n",
       "       0.85408172, 0.85079365, 0.84446925, 0.84416109, 0.83979601,\n",
       "       0.83786075, 0.83522917, 0.8308437 , 0.80780493, 0.80478671,\n",
       "       0.80421852, 0.77345933, 0.77187049, 0.76674473, 0.76391599,\n",
       "       0.74527438, 0.74444444, 0.7120937 , 0.70683427, 0.70550821,\n",
       "       0.68850668, 0.66946925, 0.65725633, 0.64538916, 0.62462121,\n",
       "       0.61843645, 0.61277647, 0.55127509, 0.54508632, 0.53638889,\n",
       "       0.52185852, 0.51446267, 0.50931116, 0.50707071, 0.44585859,\n",
       "       0.36424964, 0.3375    , 0.31530303, 0.29513435, 0.2773967 ,\n",
       "       0.25548067, 0.24255051, 0.21619769, 0.21448524, 0.21373512,\n",
       "       0.19282287, 0.18248512, 0.17438783, 0.15647547, 0.15643939,\n",
       "       0.15      , 0.1413961 , 0.1359375 , 0.11073232, 0.10643939,\n",
       "       0.10416667, 0.09861111, 0.08689052, 0.07234848, 0.06782297,\n",
       "       0.05643939, 0.05643939, 0.05416667, 0.05      , 0.04255051,\n",
       "       0.02462121, 0.00643939, 0.00416667])"
      ]
     },
     "execution_count": 99,
     "metadata": {},
     "output_type": "execute_result"
    }
   ],
   "source": [
    "rec"
   ]
  },
  {
   "cell_type": "code",
   "execution_count": 93,
   "id": "80212a0a",
   "metadata": {},
   "outputs": [],
   "source": [
    "pre = np.array([x[0] for x in p_point])\n",
    "rec = np.array([x[0] for x in r_point])\n"
   ]
  },
  {
   "cell_type": "code",
   "execution_count": 94,
   "id": "6206e2b4",
   "metadata": {},
   "outputs": [
    {
     "data": {
      "text/plain": [
       "[<matplotlib.lines.Line2D at 0x7fbb3d2fc7f0>,\n",
       " <matplotlib.lines.Line2D at 0x7fbb3d2fc850>]"
      ]
     },
     "execution_count": 94,
     "metadata": {},
     "output_type": "execute_result"
    },
    {
     "data": {
      "image/png": "[encoded data removed]",
      "text/plain": [
       "<Figure size 432x288 with 1 Axes>"
      ]
     },
     "metadata": {
      "needs_background": "light"
     },
     "output_type": "display_data"
    }
   ],
   "source": [
    "import matplotlib.pyplot as plt\n",
    "plt.figure()\n",
    "plt.title(\"PR-Curve\")\n",
    "plt.xlabel(\"Recall\")\n",
    "plt.ylabel(\"Precision\")\n",
    "plt.plot(r_point, p_point)"
   ]
  },
  {
   "cell_type": "code",
   "execution_count": 2,
   "id": "02673d43",
   "metadata": {},
   "outputs": [],
   "source": [
    "from pyspark.sql.functions import pandas_udf, PandasUDFType\n",
    "from pyspark.sql.types import DataType,StringType,FloatType"
   ]
  },
  {
   "cell_type": "code",
   "execution_count": 191,
   "id": "9d282e19",
   "metadata": {},
   "outputs": [],
   "source": [
    "from scikitplot.helpers import cumulative_gain_curve\n"
   ]
  },
  {
   "cell_type": "code",
   "execution_count": 3,
   "id": "0baa755d",
   "metadata": {},
   "outputs": [
    {
     "name": "stderr",
     "output_type": "stream",
     "text": [
      "/Users/aj/opt/anaconda3/envs/master/lib/python3.9/site-packages/pyspark/sql/pandas/functions.py:383: UserWarning: In Python 3.6+ and Spark 3.0+, it is preferred to specify type hints for pandas UDF instead of specifying pandas UDF type which will be deprecated in the future releases. See SPARK-28264 for more details.\n",
      "  warnings.warn(\n"
     ]
    },
    {
     "ename": "AttributeError",
     "evalue": "'NoneType' object has no attribute '_jvm'",
     "output_type": "error",
     "traceback": [
      "\u001b[0;31m---------------------------------------------------------------------------\u001b[0m",
      "\u001b[0;31mAttributeError\u001b[0m                            Traceback (most recent call last)",
      "\u001b[0;32m~/opt/anaconda3/envs/master/lib/python3.9/site-packages/pyspark/sql/types.py\u001b[0m in \u001b[0;36m_parse_datatype_string\u001b[0;34m(s)\u001b[0m\n\u001b[1;32m    815\u001b[0m             \u001b[0;31m# For backwards compatibility, \"integer\", \"struct<fieldname: datatype>\" and etc.\u001b[0m\u001b[0;34m\u001b[0m\u001b[0;34m\u001b[0m\u001b[0;34m\u001b[0m\u001b[0m\n\u001b[0;32m--> 816\u001b[0;31m             \u001b[0;32mreturn\u001b[0m \u001b[0mfrom_ddl_datatype\u001b[0m\u001b[0;34m(\u001b[0m\u001b[0ms\u001b[0m\u001b[0;34m)\u001b[0m\u001b[0;34m\u001b[0m\u001b[0;34m\u001b[0m\u001b[0m\n\u001b[0m\u001b[1;32m    817\u001b[0m         \u001b[0;32mexcept\u001b[0m\u001b[0;34m:\u001b[0m\u001b[0;34m\u001b[0m\u001b[0;34m\u001b[0m\u001b[0m\n",
      "\u001b[0;32m~/opt/anaconda3/envs/master/lib/python3.9/site-packages/pyspark/sql/types.py\u001b[0m in \u001b[0;36mfrom_ddl_datatype\u001b[0;34m(type_str)\u001b[0m\n\u001b[1;32m    807\u001b[0m         return _parse_datatype_json_string(\n\u001b[0;32m--> 808\u001b[0;31m             sc._jvm.org.apache.spark.sql.api.python.PythonSQLUtils.parseDataType(type_str).json())\n\u001b[0m\u001b[1;32m    809\u001b[0m \u001b[0;34m\u001b[0m\u001b[0m\n",
      "\u001b[0;31mAttributeError\u001b[0m: 'NoneType' object has no attribute '_jvm'",
      "\nDuring handling of the above exception, another exception occurred:\n",
      "\u001b[0;31mAttributeError\u001b[0m                            Traceback (most recent call last)",
      "\u001b[0;32m~/opt/anaconda3/envs/master/lib/python3.9/site-packages/pyspark/sql/types.py\u001b[0m in \u001b[0;36m_parse_datatype_string\u001b[0;34m(s)\u001b[0m\n\u001b[1;32m    819\u001b[0m                 \u001b[0;31m# For backwards compatibility, \"fieldname: datatype, fieldname: datatype\" case.\u001b[0m\u001b[0;34m\u001b[0m\u001b[0;34m\u001b[0m\u001b[0;34m\u001b[0m\u001b[0m\n\u001b[0;32m--> 820\u001b[0;31m                 \u001b[0;32mreturn\u001b[0m \u001b[0mfrom_ddl_datatype\u001b[0m\u001b[0;34m(\u001b[0m\u001b[0;34m\"struct<%s>\"\u001b[0m \u001b[0;34m%\u001b[0m \u001b[0ms\u001b[0m\u001b[0;34m.\u001b[0m\u001b[0mstrip\u001b[0m\u001b[0;34m(\u001b[0m\u001b[0;34m)\u001b[0m\u001b[0;34m)\u001b[0m\u001b[0;34m\u001b[0m\u001b[0;34m\u001b[0m\u001b[0m\n\u001b[0m\u001b[1;32m    821\u001b[0m             \u001b[0;32mexcept\u001b[0m\u001b[0;34m:\u001b[0m\u001b[0;34m\u001b[0m\u001b[0;34m\u001b[0m\u001b[0m\n",
      "\u001b[0;32m~/opt/anaconda3/envs/master/lib/python3.9/site-packages/pyspark/sql/types.py\u001b[0m in \u001b[0;36mfrom_ddl_datatype\u001b[0;34m(type_str)\u001b[0m\n\u001b[1;32m    807\u001b[0m         return _parse_datatype_json_string(\n\u001b[0;32m--> 808\u001b[0;31m             sc._jvm.org.apache.spark.sql.api.python.PythonSQLUtils.parseDataType(type_str).json())\n\u001b[0m\u001b[1;32m    809\u001b[0m \u001b[0;34m\u001b[0m\u001b[0m\n",
      "\u001b[0;31mAttributeError\u001b[0m: 'NoneType' object has no attribute '_jvm'",
      "\nDuring handling of the above exception, another exception occurred:\n",
      "\u001b[0;31mAttributeError\u001b[0m                            Traceback (most recent call last)",
      "\u001b[0;32m<ipython-input-3-a92461f155b3>\u001b[0m in \u001b[0;36m<module>\u001b[0;34m\u001b[0m\n\u001b[1;32m      1\u001b[0m \u001b[0;34m@\u001b[0m\u001b[0mpandas_udf\u001b[0m\u001b[0;34m(\u001b[0m\u001b[0;34m'double'\u001b[0m\u001b[0;34m,\u001b[0m \u001b[0mPandasUDFType\u001b[0m\u001b[0;34m.\u001b[0m\u001b[0mSCALAR\u001b[0m\u001b[0;34m)\u001b[0m\u001b[0;34m\u001b[0m\u001b[0;34m\u001b[0m\u001b[0m\n\u001b[0;32m----> 2\u001b[0;31m \u001b[0;32mdef\u001b[0m \u001b[0mplot_lift_curve\u001b[0m\u001b[0;34m(\u001b[0m\u001b[0my_true\u001b[0m\u001b[0;34m,\u001b[0m \u001b[0my_probas\u001b[0m\u001b[0;34m)\u001b[0m\u001b[0;34m:\u001b[0m\u001b[0;34m\u001b[0m\u001b[0;34m\u001b[0m\u001b[0m\n\u001b[0m\u001b[1;32m      3\u001b[0m     \u001b[0my_true\u001b[0m \u001b[0;34m=\u001b[0m \u001b[0mnp\u001b[0m\u001b[0;34m.\u001b[0m\u001b[0marray\u001b[0m\u001b[0;34m(\u001b[0m\u001b[0my_true\u001b[0m\u001b[0;34m)\u001b[0m\u001b[0;34m\u001b[0m\u001b[0;34m\u001b[0m\u001b[0m\n\u001b[1;32m      4\u001b[0m     \u001b[0my_probas\u001b[0m \u001b[0;34m=\u001b[0m \u001b[0mnp\u001b[0m\u001b[0;34m.\u001b[0m\u001b[0marray\u001b[0m\u001b[0;34m(\u001b[0m\u001b[0my_probas\u001b[0m\u001b[0;34m)\u001b[0m\u001b[0;34m\u001b[0m\u001b[0;34m\u001b[0m\u001b[0m\n\u001b[1;32m      5\u001b[0m     \u001b[0mclasses\u001b[0m \u001b[0;34m=\u001b[0m \u001b[0mset\u001b[0m\u001b[0;34m(\u001b[0m\u001b[0my_true\u001b[0m\u001b[0;34m)\u001b[0m\u001b[0;34m\u001b[0m\u001b[0;34m\u001b[0m\u001b[0m\n",
      "\u001b[0;32m~/opt/anaconda3/envs/master/lib/python3.9/site-packages/pyspark/sql/pandas/functions.py\u001b[0m in \u001b[0;36m_create_pandas_udf\u001b[0;34m(f, returnType, evalType)\u001b[0m\n\u001b[1;32m    424\u001b[0m             \"or three arguments (key, left, right).\")\n\u001b[1;32m    425\u001b[0m \u001b[0;34m\u001b[0m\u001b[0m\n\u001b[0;32m--> 426\u001b[0;31m     \u001b[0;32mreturn\u001b[0m \u001b[0m_create_udf\u001b[0m\u001b[0;34m(\u001b[0m\u001b[0mf\u001b[0m\u001b[0;34m,\u001b[0m \u001b[0mreturnType\u001b[0m\u001b[0;34m,\u001b[0m \u001b[0mevalType\u001b[0m\u001b[0;34m)\u001b[0m\u001b[0;34m\u001b[0m\u001b[0;34m\u001b[0m\u001b[0m\n\u001b[0m",
      "\u001b[0;32m~/opt/anaconda3/envs/master/lib/python3.9/site-packages/pyspark/sql/udf.py\u001b[0m in \u001b[0;36m_create_udf\u001b[0;34m(f, returnType, evalType)\u001b[0m\n\u001b[1;32m     41\u001b[0m     udf_obj = UserDefinedFunction(\n\u001b[1;32m     42\u001b[0m         f, returnType=returnType, name=None, evalType=evalType, deterministic=True)\n\u001b[0;32m---> 43\u001b[0;31m     \u001b[0;32mreturn\u001b[0m \u001b[0mudf_obj\u001b[0m\u001b[0;34m.\u001b[0m\u001b[0m_wrapped\u001b[0m\u001b[0;34m(\u001b[0m\u001b[0;34m)\u001b[0m\u001b[0;34m\u001b[0m\u001b[0;34m\u001b[0m\u001b[0m\n\u001b[0m\u001b[1;32m     44\u001b[0m \u001b[0;34m\u001b[0m\u001b[0m\n\u001b[1;32m     45\u001b[0m \u001b[0;34m\u001b[0m\u001b[0m\n",
      "\u001b[0;32m~/opt/anaconda3/envs/master/lib/python3.9/site-packages/pyspark/sql/udf.py\u001b[0m in \u001b[0;36m_wrapped\u001b[0;34m(self)\u001b[0m\n\u001b[1;32m    202\u001b[0m \u001b[0;34m\u001b[0m\u001b[0m\n\u001b[1;32m    203\u001b[0m         \u001b[0mwrapper\u001b[0m\u001b[0;34m.\u001b[0m\u001b[0mfunc\u001b[0m \u001b[0;34m=\u001b[0m \u001b[0mself\u001b[0m\u001b[0;34m.\u001b[0m\u001b[0mfunc\u001b[0m\u001b[0;34m\u001b[0m\u001b[0;34m\u001b[0m\u001b[0m\n\u001b[0;32m--> 204\u001b[0;31m         \u001b[0mwrapper\u001b[0m\u001b[0;34m.\u001b[0m\u001b[0mreturnType\u001b[0m \u001b[0;34m=\u001b[0m \u001b[0mself\u001b[0m\u001b[0;34m.\u001b[0m\u001b[0mreturnType\u001b[0m\u001b[0;34m\u001b[0m\u001b[0;34m\u001b[0m\u001b[0m\n\u001b[0m\u001b[1;32m    205\u001b[0m         \u001b[0mwrapper\u001b[0m\u001b[0;34m.\u001b[0m\u001b[0mevalType\u001b[0m \u001b[0;34m=\u001b[0m \u001b[0mself\u001b[0m\u001b[0;34m.\u001b[0m\u001b[0mevalType\u001b[0m\u001b[0;34m\u001b[0m\u001b[0;34m\u001b[0m\u001b[0m\n\u001b[1;32m    206\u001b[0m         \u001b[0mwrapper\u001b[0m\u001b[0;34m.\u001b[0m\u001b[0mdeterministic\u001b[0m \u001b[0;34m=\u001b[0m \u001b[0mself\u001b[0m\u001b[0;34m.\u001b[0m\u001b[0mdeterministic\u001b[0m\u001b[0;34m\u001b[0m\u001b[0;34m\u001b[0m\u001b[0m\n",
      "\u001b[0;32m~/opt/anaconda3/envs/master/lib/python3.9/site-packages/pyspark/sql/udf.py\u001b[0m in \u001b[0;36mreturnType\u001b[0;34m(self)\u001b[0m\n\u001b[1;32m     92\u001b[0m                 \u001b[0mself\u001b[0m\u001b[0;34m.\u001b[0m\u001b[0m_returnType_placeholder\u001b[0m \u001b[0;34m=\u001b[0m \u001b[0mself\u001b[0m\u001b[0;34m.\u001b[0m\u001b[0m_returnType\u001b[0m\u001b[0;34m\u001b[0m\u001b[0;34m\u001b[0m\u001b[0m\n\u001b[1;32m     93\u001b[0m             \u001b[0;32melse\u001b[0m\u001b[0;34m:\u001b[0m\u001b[0;34m\u001b[0m\u001b[0;34m\u001b[0m\u001b[0m\n\u001b[0;32m---> 94\u001b[0;31m                 \u001b[0mself\u001b[0m\u001b[0;34m.\u001b[0m\u001b[0m_returnType_placeholder\u001b[0m \u001b[0;34m=\u001b[0m \u001b[0m_parse_datatype_string\u001b[0m\u001b[0;34m(\u001b[0m\u001b[0mself\u001b[0m\u001b[0;34m.\u001b[0m\u001b[0m_returnType\u001b[0m\u001b[0;34m)\u001b[0m\u001b[0;34m\u001b[0m\u001b[0;34m\u001b[0m\u001b[0m\n\u001b[0m\u001b[1;32m     95\u001b[0m \u001b[0;34m\u001b[0m\u001b[0m\n\u001b[1;32m     96\u001b[0m         \u001b[0;32mif\u001b[0m \u001b[0mself\u001b[0m\u001b[0;34m.\u001b[0m\u001b[0mevalType\u001b[0m \u001b[0;34m==\u001b[0m \u001b[0mPythonEvalType\u001b[0m\u001b[0;34m.\u001b[0m\u001b[0mSQL_SCALAR_PANDAS_UDF\u001b[0m \u001b[0;32mor\u001b[0m\u001b[0;31m \u001b[0m\u001b[0;31m\\\u001b[0m\u001b[0;34m\u001b[0m\u001b[0;34m\u001b[0m\u001b[0m\n",
      "\u001b[0;32m~/opt/anaconda3/envs/master/lib/python3.9/site-packages/pyspark/sql/types.py\u001b[0m in \u001b[0;36m_parse_datatype_string\u001b[0;34m(s)\u001b[0m\n\u001b[1;32m    820\u001b[0m                 \u001b[0;32mreturn\u001b[0m \u001b[0mfrom_ddl_datatype\u001b[0m\u001b[0;34m(\u001b[0m\u001b[0;34m\"struct<%s>\"\u001b[0m \u001b[0;34m%\u001b[0m \u001b[0ms\u001b[0m\u001b[0;34m.\u001b[0m\u001b[0mstrip\u001b[0m\u001b[0;34m(\u001b[0m\u001b[0;34m)\u001b[0m\u001b[0;34m)\u001b[0m\u001b[0;34m\u001b[0m\u001b[0;34m\u001b[0m\u001b[0m\n\u001b[1;32m    821\u001b[0m             \u001b[0;32mexcept\u001b[0m\u001b[0;34m:\u001b[0m\u001b[0;34m\u001b[0m\u001b[0;34m\u001b[0m\u001b[0m\n\u001b[0;32m--> 822\u001b[0;31m                 \u001b[0;32mraise\u001b[0m \u001b[0me\u001b[0m\u001b[0;34m\u001b[0m\u001b[0;34m\u001b[0m\u001b[0m\n\u001b[0m\u001b[1;32m    823\u001b[0m \u001b[0;34m\u001b[0m\u001b[0m\n\u001b[1;32m    824\u001b[0m \u001b[0;34m\u001b[0m\u001b[0m\n",
      "\u001b[0;32m~/opt/anaconda3/envs/master/lib/python3.9/site-packages/pyspark/sql/types.py\u001b[0m in \u001b[0;36m_parse_datatype_string\u001b[0;34m(s)\u001b[0m\n\u001b[1;32m    810\u001b[0m     \u001b[0;32mtry\u001b[0m\u001b[0;34m:\u001b[0m\u001b[0;34m\u001b[0m\u001b[0;34m\u001b[0m\u001b[0m\n\u001b[1;32m    811\u001b[0m         \u001b[0;31m# DDL format, \"fieldname datatype, fieldname datatype\".\u001b[0m\u001b[0;34m\u001b[0m\u001b[0;34m\u001b[0m\u001b[0;34m\u001b[0m\u001b[0m\n\u001b[0;32m--> 812\u001b[0;31m         \u001b[0;32mreturn\u001b[0m \u001b[0mfrom_ddl_schema\u001b[0m\u001b[0;34m(\u001b[0m\u001b[0ms\u001b[0m\u001b[0;34m)\u001b[0m\u001b[0;34m\u001b[0m\u001b[0;34m\u001b[0m\u001b[0m\n\u001b[0m\u001b[1;32m    813\u001b[0m     \u001b[0;32mexcept\u001b[0m \u001b[0mException\u001b[0m \u001b[0;32mas\u001b[0m \u001b[0me\u001b[0m\u001b[0;34m:\u001b[0m\u001b[0;34m\u001b[0m\u001b[0;34m\u001b[0m\u001b[0m\n\u001b[1;32m    814\u001b[0m         \u001b[0;32mtry\u001b[0m\u001b[0;34m:\u001b[0m\u001b[0;34m\u001b[0m\u001b[0;34m\u001b[0m\u001b[0m\n",
      "\u001b[0;32m~/opt/anaconda3/envs/master/lib/python3.9/site-packages/pyspark/sql/types.py\u001b[0m in \u001b[0;36mfrom_ddl_schema\u001b[0;34m(type_str)\u001b[0m\n\u001b[1;32m    802\u001b[0m     \u001b[0;32mdef\u001b[0m \u001b[0mfrom_ddl_schema\u001b[0m\u001b[0;34m(\u001b[0m\u001b[0mtype_str\u001b[0m\u001b[0;34m)\u001b[0m\u001b[0;34m:\u001b[0m\u001b[0;34m\u001b[0m\u001b[0;34m\u001b[0m\u001b[0m\n\u001b[1;32m    803\u001b[0m         return _parse_datatype_json_string(\n\u001b[0;32m--> 804\u001b[0;31m             sc._jvm.org.apache.spark.sql.types.StructType.fromDDL(type_str).json())\n\u001b[0m\u001b[1;32m    805\u001b[0m \u001b[0;34m\u001b[0m\u001b[0m\n\u001b[1;32m    806\u001b[0m     \u001b[0;32mdef\u001b[0m \u001b[0mfrom_ddl_datatype\u001b[0m\u001b[0;34m(\u001b[0m\u001b[0mtype_str\u001b[0m\u001b[0;34m)\u001b[0m\u001b[0;34m:\u001b[0m\u001b[0;34m\u001b[0m\u001b[0;34m\u001b[0m\u001b[0m\n",
      "\u001b[0;31mAttributeError\u001b[0m: 'NoneType' object has no attribute '_jvm'"
     ]
    }
   ],
   "source": [
    "@pandas_udf('double', PandasUDFType.SCALAR)\n",
    "def plot_lift_curve(y_true, y_probas):\n",
    "    y_true = np.array(y_true)\n",
    "    y_probas = np.array(y_probas)\n",
    "    classes = set(y_true)\n",
    "    print(classes)\n",
    "    if len(classes) != 2:\n",
    "        raise ValueError('Cannot calculate Lift Curve for data with '\n",
    "                         '{} category/ies'.format(len(classes)))\n",
    "\n",
    "    # Compute Cumulative Gain Curves\n",
    "    percentages, gains1 = cumulative_gain_curve(y_true, y_probas[:, 0],\n",
    "                                                classes[0])\n",
    "    percentages, gains2 = cumulative_gain_curve(y_true, y_probas[:, 1],\n",
    "                                                classes[1])\n",
    "\n",
    "    percentages = percentages[1:]\n",
    "    gains1 = gains1[1:]\n",
    "    gains2 = gains2[1:]\n",
    "\n",
    "    gains1 = gains1 / percentages\n",
    "    gains2 = gains2 / percentages\n",
    "#     fig = go.Figure()\n",
    "#     fig.add_trace(go.Scatter(x=percentages, y=gains1,\n",
    "#                     mode='lines+markers',\n",
    "#                     name='Class 0',\n",
    "#                     line=dict(color='blue', width=4)))\n",
    "#     fig.add_trace(go.Scatter(x=percentages, y=gains2,\n",
    "#                     mode='lines+markers',\n",
    "#                     name='Class 1',\n",
    "#                     line=dict(color='orange', width=4)))\n",
    "#     fig.add_trace(go.Scatter(x=[0,1], y=[1,1],\n",
    "#                     mode='lines',\n",
    "#                     name='Baseline',\n",
    "#                     line=dict(color='black', width=4,dash = 'dash')))\n",
    "#     fig.update_layout(\n",
    "#     title=\"Lift Curve\",\n",
    "#     yaxis_title=\"Lift\",\n",
    "#     xaxis_title=\"Percentage of sample\",\n",
    "#     font=dict(\n",
    "#         family=\"Courier New, monospace\",\n",
    "#         size=18,\n",
    "#         color=\"#7f7f7f\"))\n",
    "    return percentages, gains1,percentages, gains2"
   ]
  },
  {
   "cell_type": "code",
   "execution_count": 193,
   "id": "f9beb73b",
   "metadata": {},
   "outputs": [],
   "source": [
    "prob=udf(lambda v : float(v[1]), FloatType())\n",
    "m = m.withColumn(\"y_prob\", prob(col(\"probability\")))"
   ]
  },
  {
   "cell_type": "code",
   "execution_count": 127,
   "id": "9e149a52",
   "metadata": {
    "collapsed": true
   },
   "outputs": [
    {
     "name": "stdout",
     "output_type": "stream",
     "text": [
      "+--------------------+----+--------------------+--------------------+----------+-----------+\n",
      "|             feature|type|       rawPrediction|         probability|prediction|     y_prob|\n",
      "+--------------------+----+--------------------+--------------------+----------+-----------+\n",
      "|[1.51215,12.99,3....|   1|[5.09451235039470...|[0.25472561751973...|       1.0| 0.74527436|\n",
      "|[1.51409,14.25,3....|   0|[17.9166666666666...|[0.89583333333333...|       0.0|0.104166664|\n",
      "|[1.51567,13.29,3....|   1|[9.71074656337814...|[0.48553732816890...|       1.0| 0.51446265|\n",
      "|[1.51569,13.24,3....|   0|[18.8712121212121...|[0.94356060606060...|       0.0|0.056439392|\n",
      "|[1.51571,12.72,3....|   1|[17.8712121212121...|[0.89356060606060...|       0.0|  0.1064394|\n",
      "|[1.51574,14.86,3....|   0|          [17.0,3.0]|         [0.85,0.15]|       0.0|       0.15|\n",
      "|[1.51588,13.12,3....|   0|[15.1489898989899...|[0.75744949494949...|       0.0|  0.2425505|\n",
      "|[1.5159,13.24,3.3...|   0|[19.8712121212121...|[0.99356060606060...|       0.0|0.006439394|\n",
      "|[1.51592,12.86,3....|   0|[17.9166666666666...|[0.89583333333333...|       0.0|0.104166664|\n",
      "|[1.51593,13.25,3....|   0|[18.2621895648211...|[0.91310947824105...|       0.0| 0.08689052|\n",
      "|[1.51596,12.79,3....|   1|[5.11111111111111...|[0.25555555555555...|       1.0| 0.74444443|\n",
      "|[1.51605,12.9,3.4...|   0|[17.7853535353535...|[0.88926767676767...|       0.0|0.110732324|\n",
      "|[1.51618,13.01,3....|   0|[19.5075757575757...|[0.97537878787878...|       0.0|0.024621213|\n",
      "|[1.51618,13.53,3....|   1|[7.50757575757575...|[0.37537878787878...|       1.0|  0.6246212|\n",
      "|[1.51629,12.71,3....|   0|[19.1489898989899...|[0.95744949494949...|       0.0|0.042550504|\n",
      "|[1.51631,13.34,3....|   0|[19.5075757575757...|[0.97537878787878...|       0.0|0.024621213|\n",
      "|[1.5164,12.55,3.4...|   0|[19.8712121212121...|[0.99356060606060...|       0.0|0.006439394|\n",
      "|[1.51645,13.4,3.4...|   0|[18.0277777777777...|[0.90138888888888...|       0.0| 0.09861111|\n",
      "|[1.51652,13.56,3....|   0|[19.9166666666666...|[0.99583333333333...|       0.0|0.004166667|\n",
      "|[1.5166,12.99,3.1...|   0|[12.7150072150072...|[0.63575036075036...|       0.0| 0.36424965|\n",
      "+--------------------+----+--------------------+--------------------+----------+-----------+\n",
      "only showing top 20 rows\n",
      "\n"
     ]
    }
   ],
   "source": [
    "m.show()"
   ]
  },
  {
   "cell_type": "code",
   "execution_count": 199,
   "id": "f43dc423",
   "metadata": {},
   "outputs": [],
   "source": [
    "y = m.select(\"type\").toPandas()\n",
    "y_prob = m.select(\"y_prob\").toPandas()"
   ]
  },
  {
   "cell_type": "code",
   "execution_count": 200,
   "id": "98c9d06c",
   "metadata": {},
   "outputs": [
    {
     "data": {
      "text/plain": [
       "pandas.core.frame.DataFrame"
      ]
     },
     "execution_count": 200,
     "metadata": {},
     "output_type": "execute_result"
    }
   ],
   "source": [
    "type(y_prob)"
   ]
  },
  {
   "cell_type": "code",
   "execution_count": 209,
   "id": "e66354ae",
   "metadata": {},
   "outputs": [
    {
     "ename": "TypeError",
     "evalue": "Invalid argument, not a string or column:     type\n0      1\n1      0\n2      1\n3      0\n4      1\n..   ...\n89     1\n90     0\n91     0\n92     0\n93     0\n\n[94 rows x 1 columns] of type <class 'pandas.core.frame.DataFrame'>. For column literals, use 'lit', 'array', 'struct' or 'create_map' function.",
     "output_type": "error",
     "traceback": [
      "\u001b[0;31m---------------------------------------------------------------------------\u001b[0m",
      "\u001b[0;31mTypeError\u001b[0m                                 Traceback (most recent call last)",
      "\u001b[0;32m<ipython-input-209-fbde651070ee>\u001b[0m in \u001b[0;36m<module>\u001b[0;34m\u001b[0m\n\u001b[0;32m----> 1\u001b[0;31m \u001b[0mf1\u001b[0m\u001b[0;34m,\u001b[0m\u001b[0mf2\u001b[0m\u001b[0;34m,\u001b[0m\u001b[0mf3\u001b[0m\u001b[0;34m,\u001b[0m\u001b[0mf4\u001b[0m \u001b[0;34m=\u001b[0m \u001b[0mm\u001b[0m\u001b[0;34m.\u001b[0m\u001b[0mselect\u001b[0m\u001b[0;34m(\u001b[0m\u001b[0mplot_lift_curve\u001b[0m\u001b[0;34m(\u001b[0m\u001b[0my\u001b[0m\u001b[0;34m,\u001b[0m\u001b[0my_prob\u001b[0m\u001b[0;34m)\u001b[0m\u001b[0;34m)\u001b[0m\u001b[0;34m\u001b[0m\u001b[0;34m\u001b[0m\u001b[0m\n\u001b[0m",
      "\u001b[0;32m~/opt/anaconda3/envs/master/lib/python3.9/site-packages/pyspark/sql/udf.py\u001b[0m in \u001b[0;36mwrapper\u001b[0;34m(*args)\u001b[0m\n\u001b[1;32m    195\u001b[0m         \u001b[0;34m@\u001b[0m\u001b[0mfunctools\u001b[0m\u001b[0;34m.\u001b[0m\u001b[0mwraps\u001b[0m\u001b[0;34m(\u001b[0m\u001b[0mself\u001b[0m\u001b[0;34m.\u001b[0m\u001b[0mfunc\u001b[0m\u001b[0;34m,\u001b[0m \u001b[0massigned\u001b[0m\u001b[0;34m=\u001b[0m\u001b[0massignments\u001b[0m\u001b[0;34m)\u001b[0m\u001b[0;34m\u001b[0m\u001b[0;34m\u001b[0m\u001b[0m\n\u001b[1;32m    196\u001b[0m         \u001b[0;32mdef\u001b[0m \u001b[0mwrapper\u001b[0m\u001b[0;34m(\u001b[0m\u001b[0;34m*\u001b[0m\u001b[0margs\u001b[0m\u001b[0;34m)\u001b[0m\u001b[0;34m:\u001b[0m\u001b[0;34m\u001b[0m\u001b[0;34m\u001b[0m\u001b[0m\n\u001b[0;32m--> 197\u001b[0;31m             \u001b[0;32mreturn\u001b[0m \u001b[0mself\u001b[0m\u001b[0;34m(\u001b[0m\u001b[0;34m*\u001b[0m\u001b[0margs\u001b[0m\u001b[0;34m)\u001b[0m\u001b[0;34m\u001b[0m\u001b[0;34m\u001b[0m\u001b[0m\n\u001b[0m\u001b[1;32m    198\u001b[0m \u001b[0;34m\u001b[0m\u001b[0m\n\u001b[1;32m    199\u001b[0m         \u001b[0mwrapper\u001b[0m\u001b[0;34m.\u001b[0m\u001b[0m__name__\u001b[0m \u001b[0;34m=\u001b[0m \u001b[0mself\u001b[0m\u001b[0;34m.\u001b[0m\u001b[0m_name\u001b[0m\u001b[0;34m\u001b[0m\u001b[0;34m\u001b[0m\u001b[0m\n",
      "\u001b[0;32m~/opt/anaconda3/envs/master/lib/python3.9/site-packages/pyspark/sql/udf.py\u001b[0m in \u001b[0;36m__call__\u001b[0;34m(self, *cols)\u001b[0m\n\u001b[1;32m    175\u001b[0m         \u001b[0mjudf\u001b[0m \u001b[0;34m=\u001b[0m \u001b[0mself\u001b[0m\u001b[0;34m.\u001b[0m\u001b[0m_judf\u001b[0m\u001b[0;34m\u001b[0m\u001b[0;34m\u001b[0m\u001b[0m\n\u001b[1;32m    176\u001b[0m         \u001b[0msc\u001b[0m \u001b[0;34m=\u001b[0m \u001b[0mSparkContext\u001b[0m\u001b[0;34m.\u001b[0m\u001b[0m_active_spark_context\u001b[0m\u001b[0;34m\u001b[0m\u001b[0;34m\u001b[0m\u001b[0m\n\u001b[0;32m--> 177\u001b[0;31m         \u001b[0;32mreturn\u001b[0m \u001b[0mColumn\u001b[0m\u001b[0;34m(\u001b[0m\u001b[0mjudf\u001b[0m\u001b[0;34m.\u001b[0m\u001b[0mapply\u001b[0m\u001b[0;34m(\u001b[0m\u001b[0m_to_seq\u001b[0m\u001b[0;34m(\u001b[0m\u001b[0msc\u001b[0m\u001b[0;34m,\u001b[0m \u001b[0mcols\u001b[0m\u001b[0;34m,\u001b[0m \u001b[0m_to_java_column\u001b[0m\u001b[0;34m)\u001b[0m\u001b[0;34m)\u001b[0m\u001b[0;34m)\u001b[0m\u001b[0;34m\u001b[0m\u001b[0;34m\u001b[0m\u001b[0m\n\u001b[0m\u001b[1;32m    178\u001b[0m \u001b[0;34m\u001b[0m\u001b[0m\n\u001b[1;32m    179\u001b[0m     \u001b[0;31m# This function is for improving the online help system in the interactive interpreter.\u001b[0m\u001b[0;34m\u001b[0m\u001b[0;34m\u001b[0m\u001b[0;34m\u001b[0m\u001b[0m\n",
      "\u001b[0;32m~/opt/anaconda3/envs/master/lib/python3.9/site-packages/pyspark/sql/column.py\u001b[0m in \u001b[0;36m_to_seq\u001b[0;34m(sc, cols, converter)\u001b[0m\n\u001b[1;32m     66\u001b[0m     \"\"\"\n\u001b[1;32m     67\u001b[0m     \u001b[0;32mif\u001b[0m \u001b[0mconverter\u001b[0m\u001b[0;34m:\u001b[0m\u001b[0;34m\u001b[0m\u001b[0;34m\u001b[0m\u001b[0m\n\u001b[0;32m---> 68\u001b[0;31m         \u001b[0mcols\u001b[0m \u001b[0;34m=\u001b[0m \u001b[0;34m[\u001b[0m\u001b[0mconverter\u001b[0m\u001b[0;34m(\u001b[0m\u001b[0mc\u001b[0m\u001b[0;34m)\u001b[0m \u001b[0;32mfor\u001b[0m \u001b[0mc\u001b[0m \u001b[0;32min\u001b[0m \u001b[0mcols\u001b[0m\u001b[0;34m]\u001b[0m\u001b[0;34m\u001b[0m\u001b[0;34m\u001b[0m\u001b[0m\n\u001b[0m\u001b[1;32m     69\u001b[0m     \u001b[0;32mreturn\u001b[0m \u001b[0msc\u001b[0m\u001b[0;34m.\u001b[0m\u001b[0m_jvm\u001b[0m\u001b[0;34m.\u001b[0m\u001b[0mPythonUtils\u001b[0m\u001b[0;34m.\u001b[0m\u001b[0mtoSeq\u001b[0m\u001b[0;34m(\u001b[0m\u001b[0mcols\u001b[0m\u001b[0;34m)\u001b[0m\u001b[0;34m\u001b[0m\u001b[0;34m\u001b[0m\u001b[0m\n\u001b[1;32m     70\u001b[0m \u001b[0;34m\u001b[0m\u001b[0m\n",
      "\u001b[0;32m~/opt/anaconda3/envs/master/lib/python3.9/site-packages/pyspark/sql/column.py\u001b[0m in \u001b[0;36m<listcomp>\u001b[0;34m(.0)\u001b[0m\n\u001b[1;32m     66\u001b[0m     \"\"\"\n\u001b[1;32m     67\u001b[0m     \u001b[0;32mif\u001b[0m \u001b[0mconverter\u001b[0m\u001b[0;34m:\u001b[0m\u001b[0;34m\u001b[0m\u001b[0;34m\u001b[0m\u001b[0m\n\u001b[0;32m---> 68\u001b[0;31m         \u001b[0mcols\u001b[0m \u001b[0;34m=\u001b[0m \u001b[0;34m[\u001b[0m\u001b[0mconverter\u001b[0m\u001b[0;34m(\u001b[0m\u001b[0mc\u001b[0m\u001b[0;34m)\u001b[0m \u001b[0;32mfor\u001b[0m \u001b[0mc\u001b[0m \u001b[0;32min\u001b[0m \u001b[0mcols\u001b[0m\u001b[0;34m]\u001b[0m\u001b[0;34m\u001b[0m\u001b[0;34m\u001b[0m\u001b[0m\n\u001b[0m\u001b[1;32m     69\u001b[0m     \u001b[0;32mreturn\u001b[0m \u001b[0msc\u001b[0m\u001b[0;34m.\u001b[0m\u001b[0m_jvm\u001b[0m\u001b[0;34m.\u001b[0m\u001b[0mPythonUtils\u001b[0m\u001b[0;34m.\u001b[0m\u001b[0mtoSeq\u001b[0m\u001b[0;34m(\u001b[0m\u001b[0mcols\u001b[0m\u001b[0;34m)\u001b[0m\u001b[0;34m\u001b[0m\u001b[0;34m\u001b[0m\u001b[0m\n\u001b[1;32m     70\u001b[0m \u001b[0;34m\u001b[0m\u001b[0m\n",
      "\u001b[0;32m~/opt/anaconda3/envs/master/lib/python3.9/site-packages/pyspark/sql/column.py\u001b[0m in \u001b[0;36m_to_java_column\u001b[0;34m(col)\u001b[0m\n\u001b[1;32m     50\u001b[0m         \u001b[0mjcol\u001b[0m \u001b[0;34m=\u001b[0m \u001b[0m_create_column_from_name\u001b[0m\u001b[0;34m(\u001b[0m\u001b[0mcol\u001b[0m\u001b[0;34m)\u001b[0m\u001b[0;34m\u001b[0m\u001b[0;34m\u001b[0m\u001b[0m\n\u001b[1;32m     51\u001b[0m     \u001b[0;32melse\u001b[0m\u001b[0;34m:\u001b[0m\u001b[0;34m\u001b[0m\u001b[0;34m\u001b[0m\u001b[0m\n\u001b[0;32m---> 52\u001b[0;31m         raise TypeError(\n\u001b[0m\u001b[1;32m     53\u001b[0m             \u001b[0;34m\"Invalid argument, not a string or column: \"\u001b[0m\u001b[0;34m\u001b[0m\u001b[0;34m\u001b[0m\u001b[0m\n\u001b[1;32m     54\u001b[0m             \u001b[0;34m\"{0} of type {1}. \"\u001b[0m\u001b[0;34m\u001b[0m\u001b[0;34m\u001b[0m\u001b[0m\n",
      "\u001b[0;31mTypeError\u001b[0m: Invalid argument, not a string or column:     type\n0      1\n1      0\n2      1\n3      0\n4      1\n..   ...\n89     1\n90     0\n91     0\n92     0\n93     0\n\n[94 rows x 1 columns] of type <class 'pandas.core.frame.DataFrame'>. For column literals, use 'lit', 'array', 'struct' or 'create_map' function."
     ]
    }
   ],
   "source": [
    "f1,f2,f3,f4 = m.select(plot_lift_curve(y,y_prob))"
   ]
  },
  {
   "cell_type": "code",
   "execution_count": 114,
   "id": "4c78a31e",
   "metadata": {},
   "outputs": [
    {
     "data": {
      "text/plain": [
       "pyspark.sql.dataframe.DataFrame"
      ]
     },
     "execution_count": 114,
     "metadata": {},
     "output_type": "execute_result"
    }
   ],
   "source": [
    "type(m)"
   ]
  },
  {
   "cell_type": "code",
   "execution_count": 81,
   "id": "1f0fc163",
   "metadata": {},
   "outputs": [],
   "source": [
    "def feature_importance_graph_ModelComparison(target_column, data):\n",
    "    \"\"\"\n",
    "\n",
    "    :param target_column:\n",
    "    :param data:\n",
    "    :return:\n",
    "    \"\"\"\n",
    "    features = data.drop(target_column)\n",
    "    data = VectorAssembler(inputCols=features.columns, outputCol=\"feature\").transform(data)\n",
    "    rf_model = RandomForestClassifier(labelCol=target_column, featuresCol=\"feature\", numTrees=10)\n",
    "    rf_model = rf_model.fit(data)\n",
    "    fi = pd.DataFrame(rf_model.featureImportances.values, columns=[\"values\"])\n",
    "    features_col = pd.Series(features.columns)\n",
    "    fi[\"features\"] = features_col\n",
    "    fi = fi.sort_values(by=['values'], ascending=False).round(2)\n",
    "    trace = go.Bar(x=fi[\"features\"], y=fi[\"values\"], marker=dict(color='#32E0C4'))\n",
    "    data = [trace]\n",
    "    layout = go.Layout()\n",
    "    fig = go.Figure(data=data, layout=layout)\n",
    "    fig.update_layout({'plot_bgcolor': 'rgba(0,0,0,0)', 'paper_bgcolor': 'rgba(0,0,0,0)'})\n",
    "    fig.update_layout(title_text=\"<b>RANDOM FOREST BASED FEATURE IMPORTANCE<b> \", title_x=0.5)\n",
    "    fig.update_xaxes(title_text='Features')\n",
    "    fig.update_yaxes(title_text='Feature Importance')\n",
    "    fig.update_xaxes(showline=True, linewidth=1, linecolor='black', rangemode='nonnegative')\n",
    "    fig.update_yaxes(showline=True, linewidth=1, linecolor='black', rangemode='nonnegative')\n",
    "    return fi, fig"
   ]
  },
  {
   "cell_type": "code",
   "execution_count": null,
   "id": "53b1bf21",
   "metadata": {},
   "outputs": [],
   "source": [
    "\n",
    "def lift_OngoingComparison(ann_fpr, ann_tpr, ns_fpr, ns_tpr, ann_auc, ann_fpr2, ann_tpr2, ns_fpr2, ns_tpr2, ann_auc2, name, user):\n",
    "    \"\"\"\n",
    "\n",
    "    :param ann_fpr:\n",
    "    :param ann_tpr:\n",
    "    :param ns_fpr:\n",
    "    :param ns_tpr:\n",
    "    :param ann_auc:\n",
    "    :param ann_fpr2:\n",
    "    :param ann_tpr2:\n",
    "    :param ns_fpr2:\n",
    "    :param ns_tpr2:\n",
    "    :param ann_auc2:\n",
    "    :param name:\n",
    "    :param user:\n",
    "    :return:\n",
    "    \"\"\"\n",
    "    helper = Model_helper(username=user)\n",
    "    colors = helper.preference_maker(2)\n",
    "\n",
    "    fig = go.Figure()\n",
    "    fig.add_trace(go.Scatter(x=ann_fpr, y=ann_tpr, mode='lines', name=f'{name}', line=dict(color = colors[0])))\n",
    "    fig.add_trace(go.Scatter(x=ns_fpr, y=ns_tpr, mode='lines', name='No Skill', line=dict(color = colors[1])))\n",
    "    fig.add_annotation(x=max(ns_fpr), y=0.05, showarrow=False, text=\"AUC : \" + str(ann_auc))\n",
    "    fig.update_layout(title_text=f\"Monitoring ROC AUC Curve\", title_x=0.5)\n",
    "    fig.update_layout({'plot_bgcolor': 'rgba(0,0,0,0)', 'paper_bgcolor': 'rgba(0,0,0,0)'})\n",
    "    fig.update_xaxes(title_text='False Positive Rate')\n",
    "    fig.update_yaxes(title_text='True Positive Rate')\n",
    "    fig.update_xaxes(showline=True, linewidth=1, linecolor='black', rangemode='nonnegative')\n",
    "    fig.update_yaxes(showline=True, linewidth=1, linecolor='black', rangemode='nonnegative')\n",
    "    fig.update_layout(legend=dict(orientation=\"h\", yanchor=\"bottom\", y=-0.23, xanchor=\"right\", x=0.6))\n",
    "\n",
    "    fig2 = go.Figure()\n",
    "    fig2.add_trace(go.Scatter(x=ann_fpr2, y=ann_tpr2, mode='lines', name=f'{name}', line=dict(color=colors[0])))\n",
    "    fig2.add_trace(go.Scatter(x=ns_fpr2, y=ns_tpr2, mode='lines', name='No Skill', line=dict(color=colors[1])))\n",
    "    fig2.add_annotation(x=max(ns_fpr2), y=0.05, showarrow=False, text=\"AUC : \" + str(ann_auc2))\n",
    "    fig2.update_layout(title_text=f\"Development ROC AUC Curve\", title_x=0.5)\n",
    "    fig2.update_layout({'plot_bgcolor': 'rgba(0,0,0,0)', 'paper_bgcolor': 'rgba(0,0,0,0)'})\n",
    "    fig2.update_xaxes(title_text='False Positive Rate')\n",
    "    fig2.update_yaxes(title_text='True Positive Rate')\n",
    "    fig2.update_xaxes(showline=True, linewidth=1, linecolor='black', rangemode='nonnegative')\n",
    "    fig2.update_yaxes(showline=True, linewidth=1, linecolor='black', rangemode='nonnegative')\n",
    "    fig2.update_layout(legend=dict(orientation=\"h\", yanchor=\"bottom\", y=-0.23, xanchor=\"right\", x=0.6))\n",
    "    return fig, fig2\n",
    "\n",
    "# ROC AUC function for ModelComparison\n",
    "def lift_ModelComparison(ann_fpr, ann_tpr, ns_fpr, ns_tpr, ann_auc, name, user ):\n",
    "    \"\"\"\n",
    "\n",
    "    :param ann_fpr:\n",
    "    :param ann_tpr:\n",
    "    :param ns_fpr:\n",
    "    :param ns_tpr:\n",
    "    :param ann_auc:\n",
    "    :param name:\n",
    "    :param user:\n",
    "    :return:\n",
    "    \"\"\"\n",
    "    helper = Model_helper(username=user)\n",
    "    colors = helper.preference_maker(2)\n",
    "\n",
    "    fig = go.Figure()\n",
    "    fig.add_trace(go.Scatter(x=ann_fpr, y=ann_tpr, mode='lines', name=f'{name}', line=dict(color = colors[0])))\n",
    "    fig.add_trace(go.Scatter(x=ns_fpr, y=ns_tpr, mode='lines', name='No Skill', line=dict(color = colors[1])))\n",
    "    fig.add_annotation(x=max(ns_fpr), y=0.05, showarrow=False, text=\"AUC : \" + str(ann_auc))\n",
    "    fig.update_layout(title_text=f\"<b>ROC AUC Curve<b>\", title_x=0.5)\n",
    "    fig.update_layout({'plot_bgcolor': 'rgba(0,0,0,0)', 'paper_bgcolor': 'rgba(0,0,0,0)'})\n",
    "    fig.update_xaxes(title_text='False Positive Rate')\n",
    "    fig.update_yaxes(title_text='True Positive Rate')\n",
    "    fig.update_xaxes(showline=True, linewidth=1, linecolor='black', rangemode='nonnegative')\n",
    "    fig.update_yaxes(showline=True, linewidth=1, linecolor='black', rangemode='nonnegative')\n",
    "    fig.update_layout(legend=dict(orientation=\"h\", yanchor=\"bottom\", y=-0.23, xanchor=\"right\", x=0.6))\n",
    "    return fig\n",
    "\n",
    "\n",
    "def draw_AUC_ModelComparison(model, target_column, name, user):\n",
    "    \"\"\"\n",
    "\n",
    "    :param model:\n",
    "    :param name:\n",
    "    :param target_column:\n",
    "    :param user:\n",
    "    :return:\n",
    "    \"\"\"\n",
    "    model = model.withColumn(\"ns_prob\",lit(0.0))\n",
    "    # fpr and tpr only possible in spark lr model\n",
    "    BCM = model.select(target_column, 'probability').rdd.map(lambda row: (float(row['probability'][1]), float(row['type'])))\n",
    "    metrics = CurveMetrics(BCM)\n",
    "    model_auc = metrics.areaUnderROC\n",
    "    points = metrics.get_curve('roc')\n",
    "    model_fpr = np.array([x[0] for x in points])\n",
    "    model_tpr = np.array([x[1] for x in points])\n",
    "    \n",
    "    BCM = model.select(target_column, 'ns_prob').rdd.map(lambda row: (float(row['ns_prob']), float(row['type'])))\n",
    "    metrics = CurveMetrics(BCM)\n",
    "    points = metrics.get_curve('roc')\n",
    "    ns_fpr = np.array([x[0] for x in points])\n",
    "    ns_tpr = np.array([x[1] for x in points])\n",
    "    return lift_ModelComparison(model_fpr, model_tpr, ns_fpr, ns_tpr, model_auc, name, user)\n",
    "\n",
    "\n",
    "# ROC AUC Curve\n",
    "def draw_AUC_OngoingComparison(train_model, test_model, target_column, name, user):\n",
    "    \"\"\"\n",
    "\n",
    "    :param train_model:\n",
    "    :param test_model:\n",
    "    :param target_column:\n",
    "    :param name:\n",
    "    :param user:\n",
    "    :return:\n",
    "    \"\"\"\n",
    "    # fpr and tpr only possible in spark lr model\n",
    "    # ROC for Train Data\n",
    "    train_model = train_model.withColumn(\"ns_prob\",lit(0.0))\n",
    "    test_model = test_model.withColumn(\"ns_prob\",lit(0.0))\n",
    "\n",
    "    BCM = train_model.select(target_column, 'probability').rdd.map(lambda row: (float(row['probability'][1]), float(row['type'])))\n",
    "    metrics = CurveMetrics(BCM)\n",
    "    train_model_auc = metrics.areaUnderROC\n",
    "    points = metrics.get_curve('roc')\n",
    "    train_model_fpr = np.array([x[0] for x in points])\n",
    "    train_model_tpr = np.array([x[1] for x in points])\n",
    "    \n",
    "    BCM = train_model.select(target_column, 'ns_prob').rdd.map(lambda row: (float(row['ns_prob']), float(row['type'])))\n",
    "    metrics = CurveMetrics(BCM)\n",
    "    points = metrics.get_curve('roc')\n",
    "    ns_fpr = np.array([x[0] for x in points])\n",
    "    ns_tpr = np.array([x[1] for x in points])\n",
    "\n",
    "    # ROC for Test Data\n",
    "    BCM = test_model.select(target_column, 'probability').rdd.map(lambda row: (float(row['probability'][1]), float(row['type'])))\n",
    "    metrics = CurveMetrics(BCM)\n",
    "    test_model_auc = metrics.areaUnderROC\n",
    "    points = metrics.get_curve('roc')\n",
    "    test_model_fpr = np.array([x[0] for x in points])\n",
    "    test_model_tpr = np.array([x[1] for x in points])\n",
    "    \n",
    "    BCM = test_model.select(target_column, 'ns_prob').rdd.map(lambda row: (float(row['ns_prob']), float(row['type'])))\n",
    "    metrics = CurveMetrics(BCM)\n",
    "    points = metrics.get_curve('roc')\n",
    "    ns_fpr2 = np.array([x[0] for x in points])\n",
    "    ns_tpr2 = np.array([x[1] for x in points])\n",
    "\n",
    "    return lift_OngoingComparison(train_model_fpr, train_model_tpr, ns_fpr, ns_tpr, train_model_auc, test_model_fpr, test_model_tpr, ns_fpr2, ns_tpr2, test_model_auc, name, user)\n"
   ]
  },
  {
   "cell_type": "code",
   "execution_count": null,
   "id": "a3f277dd",
   "metadata": {},
   "outputs": [],
   "source": [
    "target_column = \"type\"\n",
    "rf_model,lr_model,sv_model, col = train_ml()\n",
    "train,test = get_data()"
   ]
  },
  {
   "cell_type": "code",
   "execution_count": null,
   "id": "f943fb5d",
   "metadata": {},
   "outputs": [],
   "source": [
    "tlr_model = lr_model.transform(train)\n",
    "trf_model = rf_model.transform(train)\n",
    "tsv_model = sv_model.transform(train)\n"
   ]
  },
  {
   "cell_type": "code",
   "execution_count": null,
   "id": "4ad864e3",
   "metadata": {},
   "outputs": [],
   "source": [
    "\n",
    "tlr_model = tlr_model.withColumn(\"ns_prob\",lit(0.0))"
   ]
  },
  {
   "cell_type": "code",
   "execution_count": null,
   "id": "c6dd7167",
   "metadata": {},
   "outputs": [],
   "source": [
    "tlr_model.printSchema"
   ]
  },
  {
   "cell_type": "code",
   "execution_count": null,
   "id": "4b58abae",
   "metadata": {},
   "outputs": [],
   "source": [
    "\n",
    "pyo.plot(draw_AUC_ModelComparison(tlr_model,\"type\",\"AJAY\",3))\n"
   ]
  },
  {
   "cell_type": "code",
   "execution_count": null,
   "id": "72bdc461",
   "metadata": {},
   "outputs": [],
   "source": [
    "train_model = lr_model.transform(train)\n",
    "test_model = lr_model.transform(test)"
   ]
  },
  {
   "cell_type": "code",
   "execution_count": null,
   "id": "f8db31d8",
   "metadata": {},
   "outputs": [],
   "source": [
    "f1, f2 = draw_AUC_OngoingComparison(train_model, test_model, \"type\", \"AJAY\", 4)"
   ]
  },
  {
   "cell_type": "code",
   "execution_count": null,
   "id": "400f0ec1",
   "metadata": {},
   "outputs": [],
   "source": [
    "pyo.plot(f1)"
   ]
  },
  {
   "cell_type": "code",
   "execution_count": null,
   "id": "2864ea4b",
   "metadata": {},
   "outputs": [],
   "source": [
    "pyo.plot(f2)"
   ]
  },
  {
   "cell_type": "code",
   "execution_count": null,
   "id": "5fb50e46",
   "metadata": {},
   "outputs": [],
   "source": [
    "type(lr_model.select(\"prediction\").count())"
   ]
  },
  {
   "cell_type": "code",
   "execution_count": null,
   "id": "750e5c97",
   "metadata": {},
   "outputs": [],
   "source": [
    "def graph_sen_OngoingComparison(train_model, test_model, target_column):\n",
    "    \"\"\"\n",
    "\n",
    "    :param train_model:\n",
    "    :param test_model:\n",
    "    :param user:\n",
    "    :return:\n",
    "    \"\"\"\n",
    "#     helper = Model_helper(username=user)\n",
    "#     colors = helper.preference_maker(2)\n",
    "    # ROC for train dataset\n",
    "    preds = train_model.select(target_column, 'probability').rdd.map(\n",
    "            lambda row: (float(row['probability'][1]), float(row['type'])))\n",
    "    points = CurveMetrics(preds).get_curve('roc')\n",
    "    model_fpr = np.array([x[0] for x in points])\n",
    "    model_tpr = np.array([x[1] for x in points])\n",
    "    go.Figure()\n",
    "    fig = make_subplots(specs=[[{\"secondary_y\": True}]])\n",
    "    fig.add_trace(go.Scatter(x=model_fpr, y=1 - model_tpr,\n",
    "                             mode='lines',\n",
    "                             name='Specificity',\n",
    "                             line=dict(color='rgba(255,0,0,255)'),\n",
    "                             ))\n",
    "\n",
    "    fig.add_trace(go.Scatter(x=model_fpr, y=model_tpr, mode='lines', name='Sensitivity', line=dict(color='rgba(0,0,255,255)')),\n",
    "                  secondary_y=True, )\n",
    "    fig.update_layout(title_text=f\"Development<br>Specificity vs Sensitivity\", title_x=0.5)\n",
    "    fig.update_layout({'plot_bgcolor': 'rgba(0,0,0,0)', 'paper_bgcolor': 'rgba(0,0,0,0)'})\n",
    "    fig.update_yaxes(title_text='Specificity')\n",
    "    fig.update_yaxes(title_text='Sensitivity')\n",
    "    fig.update_xaxes(title_text='Cutoff')\n",
    "    fig.update_xaxes(showline=True, linewidth=1, linecolor='black', rangemode='nonnegative')\n",
    "    fig.update_yaxes(showline=True, linewidth=1, linecolor='black', rangemode='nonnegative')\n",
    "    fig.update_layout(legend=dict(orientation=\"h\", yanchor=\"bottom\", y=-0.23, xanchor=\"right\", x=0.6))\n",
    "\n",
    "    # ROC for test dataset\n",
    "    preds = test_model.select(target_column, 'probability').rdd.map(\n",
    "            lambda row: (float(row['probability'][1]), float(row['type'])))\n",
    "    points = CurveMetrics(preds).get_curve('roc')\n",
    "    model_fpr = np.array([x[0] for x in points])\n",
    "    model_tpr = np.array([x[1] for x in points])\n",
    "    go.Figure()\n",
    "    fig2 = make_subplots(specs=[[{\"secondary_y\": True}]])\n",
    "    fig2.add_trace(go.Scatter(x=model_fpr, y=1 - model_tpr, mode='lines',\n",
    "                              name='Specificity',\n",
    "                              line=dict(color='rgba(255,0,0,255)'),\n",
    "                              ))\n",
    "    fig2.add_trace(go.Scatter(x=model_fpr, y=model_tpr, mode='lines', name='Sensitivity', line=dict(color='rgba(0,0,255,255)')),\n",
    "                   secondary_y=True, )\n",
    "    fig2.update_layout(title_text=f\"Monitoring<br>Specificity vs Sensitivity\", title_x=0.5)\n",
    "    fig2.update_layout({'plot_bgcolor': 'rgba(0,0,0,0)', 'paper_bgcolor': 'rgba(0,0,0,0)'})\n",
    "    fig2.update_yaxes(title_text='Specificity')\n",
    "    fig2.update_yaxes(title_text='Sensitivity')\n",
    "    fig2.update_xaxes(title_text='Cutoff')\n",
    "    fig2.update_xaxes(showline=True, linewidth=1, linecolor='black', rangemode='nonnegative')\n",
    "    fig2.update_yaxes(showline=True, linewidth=1, linecolor='black', rangemode='nonnegative')\n",
    "    fig2.update_layout(legend=dict(orientation=\"h\", yanchor=\"bottom\", y=-0.23, xanchor=\"right\", x=0.6))\n",
    "    return fig, fig2\n",
    "\n",
    "\n",
    "def graph_sen_ModelComparison(test_model,target_column):\n",
    "    \"\"\"\n",
    "\n",
    "    :param test_model:\n",
    "    :param user:\n",
    "    :return:\n",
    "    \"\"\"\n",
    "#     helper = Model_helper(username=user)\n",
    "#     colors = helper.preference_maker(2)\n",
    "\n",
    "    # ROC for test dataset\n",
    "    preds = test_model.select(target_column, 'probability').rdd.map(\n",
    "        lambda row: (float(row['probability'][1]), float(row['type'])))\n",
    "    points = CurveMetrics(preds).get_curve('roc')\n",
    "    model_fpr = np.array([x[0] for x in points])\n",
    "    model_tpr = np.array([x[1] for x in points])\n",
    "    go.Figure()\n",
    "    fig = make_subplots(specs=[[{\"secondary_y\": True}]])\n",
    "    fig.add_trace(go.Scatter(x=model_fpr, y=1 - model_tpr, mode='lines', name='Specificity', line=dict(color='rgba(255,0,0,255)')))\n",
    "    fig.add_trace(go.Scatter(x=model_fpr, y=model_tpr, mode='lines', name='Sensitivity', line=dict(color='rgba(0,0,255,255)')),secondary_y=True)\n",
    "    fig.update_layout(title_text=f\"<b>SPECIFICITY VS SENSITIVITY<b>\", title_x=0.5)\n",
    "    fig.update_layout({'plot_bgcolor': 'rgba(0,0,0,0)', 'paper_bgcolor': 'rgba(0,0,0,0)'})\n",
    "    fig.update_yaxes(title_text='Specificity ')\n",
    "    fig.update_yaxes(title_text='Sensitivity')\n",
    "    fig.update_xaxes(title_text='Cutoff')\n",
    "    fig.update_xaxes(showline=True, linewidth=1, linecolor='black', rangemode='nonnegative')\n",
    "    fig.update_yaxes(showline=True, linewidth=1, linecolor='black', rangemode='nonnegative')\n",
    "    fig.update_layout(legend=dict(orientation=\"h\", yanchor=\"bottom\", y=-0.23, xanchor=\"right\", x=0.6))\n",
    "    return fig\n",
    "\n"
   ]
  },
  {
   "cell_type": "code",
   "execution_count": null,
   "id": "46ffadfa",
   "metadata": {},
   "outputs": [],
   "source": [
    "t_lr_model = lr_model.transform(test)\n",
    "t_rf_model = rf_model.transform(test)\n",
    "t_sv_model = sv_model.transform(test)\n"
   ]
  },
  {
   "cell_type": "code",
   "execution_count": null,
   "id": "1eab93ef",
   "metadata": {},
   "outputs": [],
   "source": [
    "f1, f2 = graph_sen_OngoingComparison(tlr_model,t_lr_model,\"type\")\n"
   ]
  },
  {
   "cell_type": "code",
   "execution_count": null,
   "id": "c5655f72",
   "metadata": {},
   "outputs": [],
   "source": [
    "pyo.plot(f1)"
   ]
  },
  {
   "cell_type": "code",
   "execution_count": null,
   "id": "50d78077",
   "metadata": {},
   "outputs": [],
   "source": [
    "pyo.plot(f2)"
   ]
  },
  {
   "cell_type": "code",
   "execution_count": null,
   "id": "40b5d24e",
   "metadata": {},
   "outputs": [],
   "source": [
    "from pyspark.ml.feature import VectorAssembler\n",
    "from pyspark.mllib.evaluation import MulticlassMetrics, BinaryClassificationMetrics  # MM for cm and BM for roc,auc\n",
    "from pyspark.ml.evaluation import MulticlassClassificationEvaluator  # P,R,F-1,TPR,FPR"
   ]
  },
  {
   "cell_type": "code",
   "execution_count": null,
   "id": "e4269124",
   "metadata": {},
   "outputs": [],
   "source": [
    "\n",
    "def cm_fig(cm):\n",
    "    \"\"\"\n",
    "\n",
    "    :param cm:\n",
    "    :return:\n",
    "    \"\"\"\n",
    "    x = ['Positive', 'Negative']\n",
    "    y = ['Positive', 'Negative']\n",
    "\n",
    "    fig = go.Figure()\n",
    "    for step in range(9):\n",
    "        fig.add_trace(go.Heatmap(visible=False, x=x, y=y, z=cm, colorscale=\"teal\"))\n",
    "    fig.data[4].visible = True\n",
    "\n",
    "    anno2 = []\n",
    "    for i, row in enumerate(cm):\n",
    "        for j, value2 in enumerate(row):\n",
    "            anno2.append(\n",
    "                {\n",
    "                    \"x\": x[j],\n",
    "                    \"y\": y[i],\n",
    "                    \"font\": {\"color\": \"white\", \"size\": 16},\n",
    "                    \"text\": str(value2),\n",
    "                    \"xref\": \"x1\",\n",
    "                    \"yref\": \"y1\",\n",
    "                    \"showarrow\": False\n",
    "                }\n",
    "            )\n",
    "\n",
    "    # Create and add slider\n",
    "    steps = []\n",
    "    for i in range(len(fig.data)):\n",
    "        step = dict(\n",
    "            method=\"update\",\n",
    "            args=[{\"visible\": [False] * len(fig.data)},\n",
    "                  {\"title\": \"Slider switched to Threshold: \" + str((i + 1) / 10)}],\n",
    "            label=\"Threshold : \" + str((i + 1) / 10),  # layout attribute\n",
    "        )\n",
    "        step[\"args\"][0][\"visible\"][i] = True  # Toggle trace to \"visible\"\n",
    "        steps.append(step)\n",
    "    fig.update_layout(title_text=f\"<b>CONFUSION MATRIX<b>\", title_x=0.5, annotations=anno2)\n",
    "    return fig\n",
    "\n",
    "\n",
    "def perf_metrics (model, data, target_column):\n",
    "    features = data.drop(target_column)\n",
    "    data = VectorAssembler(inputCols=features.columns, outputCol=\"feature\").transform(data)    \n",
    "    model = model.transform(data)\n",
    "    pred_actual = model.select(col(\"prediction\").cast('float'), col(target_column).cast('float'))\n",
    "    metrics = MulticlassMetrics(pred_actual.rdd.map(tuple))\n",
    "    fig = cm_fig(metrics.confusionMatrix().toArray())\n",
    "    metrics_data = {}\n",
    "    metrics = [\"Accuracy\", \"Precision\",\"Recall\",\"F1-Recall\",'ROC-AUC']\n",
    "    for i in metrics:\n",
    "        if i == \"Accuracy\":\n",
    "            evaluator = MulticlassClassificationEvaluator(labelCol=target_column, predictionCol=\"prediction\",\n",
    "                                                      metricName=\"accuracy\")\n",
    "            metrics_data['Accuracy'] = evaluator.evaluate(model)\n",
    "        elif i == 'Precision':\n",
    "            evaluator = MulticlassClassificationEvaluator(labelCol=target_column, predictionCol=\"prediction\",\n",
    "                                                      metricName=\"precisionByLabel\", )\n",
    "            metrics_data['Precision'] = evaluator.evaluate(model)\n",
    "        elif i == 'Recall':\n",
    "            evaluator = MulticlassClassificationEvaluator(labelCol=target_column, predictionCol=\"prediction\",\n",
    "                                                      metricName=\"recallByLabel\", )\n",
    "            metrics_data['Recall'] = evaluator.evaluate(model)\n",
    "        elif i == 'F1-Recall':\n",
    "            evaluator = MulticlassClassificationEvaluator(labelCol=target_column, predictionCol=\"prediction\",\n",
    "                                                      metricName=\"f1\", )\n",
    "            metrics_data['F1-Score'] = evaluator.evaluate(model)\n",
    "\n",
    "        elif i == 'ROC-AUC':\n",
    "            metrics = BinaryClassificationMetrics(pred_actual.rdd.map(tuple))\n",
    "            metrics_data['areaUnderROC'], metrics_data['areaUnderPR'] = metrics.areaUnderROC, metrics.areaUnderPR\n",
    "    \n",
    "    return fig,metrics_data"
   ]
  },
  {
   "cell_type": "code",
   "execution_count": null,
   "id": "b58650f6",
   "metadata": {},
   "outputs": [],
   "source": [
    "fig , m =perf_metrics(rf_model, data, \"type\")"
   ]
  },
  {
   "cell_type": "code",
   "execution_count": null,
   "id": "74c3415b",
   "metadata": {},
   "outputs": [],
   "source": [
    "from pyspark.sql.functions import col, udf\n",
    "from pyspark.sql.types import FloatType\n"
   ]
  },
  {
   "cell_type": "code",
   "execution_count": null,
   "id": "a53a6afd",
   "metadata": {},
   "outputs": [],
   "source": [
    "pyo.plot(fig)"
   ]
  },
  {
   "cell_type": "code",
   "execution_count": null,
   "id": "c18120f5",
   "metadata": {},
   "outputs": [],
   "source": [
    "m"
   ]
  },
  {
   "cell_type": "code",
   "execution_count": null,
   "id": "11f62226",
   "metadata": {},
   "outputs": [],
   "source": [
    "\"metric name in evaluation \"\n",
    "\"(f1|accuracy|weightedPrecision|weightedRecall|weightedTruePositiveRate| \"\n",
    "\"weightedFalsePositiveRate|weightedFMeasure|truePositiveRateByLabel| \"\n",
    "\"falsePositiveRateByLabel|precisionByLabel|recallByLabel|fMeasureByLabel| \"\n",
    "\"logLoss|hammingLoss)"
   ]
  },
  {
   "cell_type": "code",
   "execution_count": null,
   "id": "31d9d30e",
   "metadata": {},
   "outputs": [],
   "source": [
    "evaluator = MulticlassClassificationEvaluator(labelCol=target_column, predictionCol=\"prediction\",metricName=\"logLoss\")\n",
    "evaluator.evaluate(t_lr_model)"
   ]
  },
  {
   "cell_type": "code",
   "execution_count": null,
   "id": "a1c0d9a5",
   "metadata": {},
   "outputs": [],
   "source": []
  }
 ],
 "metadata": {
  "kernelspec": {
   "display_name": "Python 3.9.5 64-bit ('master': conda)",
   "language": "python",
   "name": "python395jvsc74a57bd0e5d34a57892e62c64696f4f28864301f58fd12f04690d261f74726cd452afbc6"
  },
  "language_info": {
   "codemirror_mode": {
    "name": "ipython",
    "version": 3
   },
   "file_extension": ".py",
   "mimetype": "text/x-python",
   "name": "python",
   "nbconvert_exporter": "python",
   "pygments_lexer": "ipython3",
   "version": "3.9.5"
  }
 },
 "nbformat": 4,
 "nbformat_minor": 5
}
