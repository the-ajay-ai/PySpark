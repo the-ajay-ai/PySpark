{
 "cells": [
  {
   "cell_type": "code",
   "execution_count": 6,
   "id": "021e1492",
   "metadata": {},
   "outputs": [],
   "source": [
    "x = [1,3,2,5,6,4,3,8,12,5]"
   ]
  },
  {
   "cell_type": "code",
   "execution_count": 7,
   "id": "e5bd7b33",
   "metadata": {},
   "outputs": [
    {
     "data": {
      "text/plain": [
       "[4, 8]"
      ]
     },
     "execution_count": 7,
     "metadata": {},
     "output_type": "execute_result"
    }
   ],
   "source": [
    "[x for x in x[1::2] if x%2==0]"
   ]
  },
  {
   "cell_type": "code",
   "execution_count": 11,
   "id": "daa23f68",
   "metadata": {},
   "outputs": [],
   "source": [
    "df=pd.DataFrame({\"code\":[10,22,13,21,12,11,17],\"city\":[\"g\",None,\"m\",\"d\",None,\"d\",\"m\"]})"
   ]
  },
  {
   "cell_type": "code",
   "execution_count": 12,
   "id": "09b698b5",
   "metadata": {},
   "outputs": [
    {
     "data": {
      "text/html": [
       "<div>\n",
       "<style scoped>\n",
       "    .dataframe tbody tr th:only-of-type {\n",
       "        vertical-align: middle;\n",
       "    }\n",
       "\n",
       "    .dataframe tbody tr th {\n",
       "        vertical-align: top;\n",
       "    }\n",
       "\n",
       "    .dataframe thead th {\n",
       "        text-align: right;\n",
       "    }\n",
       "</style>\n",
       "<table border=\"1\" class=\"dataframe\">\n",
       "  <thead>\n",
       "    <tr style=\"text-align: right;\">\n",
       "      <th>city</th>\n",
       "      <th>d</th>\n",
       "      <th>g</th>\n",
       "      <th>k</th>\n",
       "      <th>m</th>\n",
       "    </tr>\n",
       "  </thead>\n",
       "  <tbody>\n",
       "    <tr>\n",
       "      <th>code</th>\n",
       "      <td>11</td>\n",
       "      <td>10</td>\n",
       "      <td>12</td>\n",
       "      <td>13</td>\n",
       "    </tr>\n",
       "  </tbody>\n",
       "</table>\n",
       "</div>"
      ],
      "text/plain": [
       "city   d   g   k   m\n",
       "code  11  10  12  13"
      ]
     },
     "execution_count": 12,
     "metadata": {},
     "output_type": "execute_result"
    }
   ],
   "source": [
    "pd.DataFrame(df.fillna(\"k\").groupby(\"city\").min().T)"
   ]
  },
  {
   "cell_type": "code",
   "execution_count": 24,
   "id": "32c4fb97",
   "metadata": {},
   "outputs": [],
   "source": [
    "import numpy as np\n",
    "import pandas as pd"
   ]
  },
  {
   "cell_type": "code",
   "execution_count": 2,
   "id": "10bf83d4",
   "metadata": {},
   "outputs": [],
   "source": [
    "a =pd.Series([0])\n",
    "b =pd.Series([1])"
   ]
  },
  {
   "cell_type": "code",
   "execution_count": 4,
   "id": "d8268470",
   "metadata": {},
   "outputs": [],
   "source": [
    "d =[]\n",
    "for i ,j in zip(a,b):\n",
    "    d.append((i+j)/2)"
   ]
  },
  {
   "cell_type": "code",
   "execution_count": 5,
   "id": "729fda5d",
   "metadata": {},
   "outputs": [
    {
     "data": {
      "text/plain": [
       "[0.5]"
      ]
     },
     "execution_count": 5,
     "metadata": {},
     "output_type": "execute_result"
    }
   ],
   "source": [
    "d"
   ]
  },
  {
   "cell_type": "code",
   "execution_count": 13,
   "id": "012b1b84",
   "metadata": {},
   "outputs": [],
   "source": [
    "n = [\"IXO\",\"KOLKATA\",\"SALT LAKE\",\"SEZ\"]"
   ]
  },
  {
   "cell_type": "code",
   "execution_count": 14,
   "id": "e5a6d376",
   "metadata": {},
   "outputs": [
    {
     "data": {
      "text/plain": [
       "'K'"
      ]
     },
     "execution_count": 14,
     "metadata": {},
     "output_type": "execute_result"
    }
   ],
   "source": [
    "n[-2][-2]"
   ]
  },
  {
   "cell_type": "code",
   "execution_count": 15,
   "id": "7a32b4b8",
   "metadata": {},
   "outputs": [],
   "source": [
    "s1 = \"KOLKATA\"\n",
    "s2 = \"LAKE\""
   ]
  },
  {
   "cell_type": "code",
   "execution_count": 16,
   "id": "6066ab98",
   "metadata": {},
   "outputs": [],
   "source": [
    "e = list(set(s1)&set(s2))"
   ]
  },
  {
   "cell_type": "code",
   "execution_count": 17,
   "id": "fac1a189",
   "metadata": {},
   "outputs": [
    {
     "name": "stdout",
     "output_type": "stream",
     "text": [
      "A\n",
      "L\n",
      "K\n"
     ]
    }
   ],
   "source": [
    "for i in e:\n",
    "    print(i)"
   ]
  },
  {
   "cell_type": "code",
   "execution_count": 49,
   "id": "d4eb8c02",
   "metadata": {},
   "outputs": [],
   "source": [
    "\n",
    "df = pd.DataFrame({\"x\":[1,2,3],\"y\":[4,5,6]})"
   ]
  },
  {
   "cell_type": "code",
   "execution_count": 41,
   "id": "461485f3",
   "metadata": {},
   "outputs": [],
   "source": [
    "# df = df.apply(lambda x:list(x),axis=1)"
   ]
  },
  {
   "cell_type": "code",
   "execution_count": 58,
   "id": "c60843b3",
   "metadata": {},
   "outputs": [
    {
     "data": {
      "text/plain": [
       "<function str.index>"
      ]
     },
     "execution_count": 58,
     "metadata": {},
     "output_type": "execute_result"
    }
   ],
   "source": [
    "df.columns.max().index"
   ]
  },
  {
   "cell_type": "code",
   "execution_count": 82,
   "id": "29613c60",
   "metadata": {},
   "outputs": [
    {
     "data": {
      "text/html": [
       "<div>\n",
       "<style scoped>\n",
       "    .dataframe tbody tr th:only-of-type {\n",
       "        vertical-align: middle;\n",
       "    }\n",
       "\n",
       "    .dataframe tbody tr th {\n",
       "        vertical-align: top;\n",
       "    }\n",
       "\n",
       "    .dataframe thead th {\n",
       "        text-align: right;\n",
       "    }\n",
       "</style>\n",
       "<table border=\"1\" class=\"dataframe\">\n",
       "  <thead>\n",
       "    <tr style=\"text-align: right;\">\n",
       "      <th></th>\n",
       "      <th>x</th>\n",
       "      <th>y</th>\n",
       "    </tr>\n",
       "  </thead>\n",
       "  <tbody>\n",
       "    <tr>\n",
       "      <th>0</th>\n",
       "      <td>1</td>\n",
       "      <td>4</td>\n",
       "    </tr>\n",
       "    <tr>\n",
       "      <th>1</th>\n",
       "      <td>2</td>\n",
       "      <td>5</td>\n",
       "    </tr>\n",
       "    <tr>\n",
       "      <th>2</th>\n",
       "      <td>3</td>\n",
       "      <td>6</td>\n",
       "    </tr>\n",
       "  </tbody>\n",
       "</table>\n",
       "</div>"
      ],
      "text/plain": [
       "   x  y\n",
       "0  1  4\n",
       "1  2  5\n",
       "2  3  6"
      ]
     },
     "execution_count": 82,
     "metadata": {},
     "output_type": "execute_result"
    }
   ],
   "source": [
    "df"
   ]
  },
  {
   "cell_type": "code",
   "execution_count": 85,
   "id": "2dbadfcf",
   "metadata": {},
   "outputs": [
    {
     "name": "stdout",
     "output_type": "stream",
     "text": [
      " x 3\n",
      " y 6\n"
     ]
    }
   ],
   "source": [
    "for i in list(df.columns):\n",
    "    print(f\" {i} {df[i].max()}\")"
   ]
  },
  {
   "cell_type": "code",
   "execution_count": 72,
   "id": "be8cc392",
   "metadata": {},
   "outputs": [],
   "source": [
    "t = 0\n",
    "def foo():\n",
    "#     t+=1\n",
    "    return t+1"
   ]
  },
  {
   "cell_type": "code",
   "execution_count": 73,
   "id": "35074bf0",
   "metadata": {},
   "outputs": [
    {
     "data": {
      "text/plain": [
       "1"
      ]
     },
     "execution_count": 73,
     "metadata": {},
     "output_type": "execute_result"
    }
   ],
   "source": [
    "foo()"
   ]
  },
  {
   "cell_type": "code",
   "execution_count": null,
   "id": "a7265732",
   "metadata": {},
   "outputs": [],
   "source": []
  }
 ],
 "metadata": {
  "kernelspec": {
   "display_name": "Python 3.9.5 64-bit ('master': conda)",
   "language": "python",
   "name": "python395jvsc74a57bd0e5d34a57892e62c64696f4f28864301f58fd12f04690d261f74726cd452afbc6"
  },
  "language_info": {
   "codemirror_mode": {
    "name": "ipython",
    "version": 3
   },
   "file_extension": ".py",
   "mimetype": "text/x-python",
   "name": "python",
   "nbconvert_exporter": "python",
   "pygments_lexer": "ipython3",
   "version": "3.9.5"
  }
 },
 "nbformat": 4,
 "nbformat_minor": 5
}
